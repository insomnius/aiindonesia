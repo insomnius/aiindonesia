{
 "cells": [
  {
   "cell_type": "code",
   "execution_count": 1,
   "metadata": {},
   "outputs": [
    {
     "name": "stdout",
     "output_type": "stream",
     "text": [
      "Collecting bayesian-optimization\n",
      "  Downloading bayesian_optimization-1.4.3-py3-none-any.whl (18 kB)\n",
      "Requirement already satisfied: numpy>=1.9.0 in /opt/conda/lib/python3.11/site-packages (from bayesian-optimization) (1.24.4)\n",
      "Requirement already satisfied: scipy>=1.0.0 in /opt/conda/lib/python3.11/site-packages (from bayesian-optimization) (1.11.3)\n",
      "Requirement already satisfied: scikit-learn>=0.18.0 in /opt/conda/lib/python3.11/site-packages (from bayesian-optimization) (1.3.1)\n",
      "Requirement already satisfied: colorama>=0.4.6 in /opt/conda/lib/python3.11/site-packages (from bayesian-optimization) (0.4.6)\n",
      "Requirement already satisfied: joblib>=1.1.1 in /opt/conda/lib/python3.11/site-packages (from scikit-learn>=0.18.0->bayesian-optimization) (1.3.2)\n",
      "Requirement already satisfied: threadpoolctl>=2.0.0 in /opt/conda/lib/python3.11/site-packages (from scikit-learn>=0.18.0->bayesian-optimization) (3.2.0)\n",
      "Installing collected packages: bayesian-optimization\n",
      "Successfully installed bayesian-optimization-1.4.3\n"
     ]
    }
   ],
   "source": [
    "!pip install bayesian-optimization"
   ]
  },
  {
   "cell_type": "code",
   "execution_count": 2,
   "metadata": {},
   "outputs": [
    {
     "name": "stderr",
     "output_type": "stream",
     "text": [
      "2024-02-14 14:17:40.323088: I tensorflow/core/util/port.cc:113] oneDNN custom operations are on. You may see slightly different numerical results due to floating-point round-off errors from different computation orders. To turn them off, set the environment variable `TF_ENABLE_ONEDNN_OPTS=0`.\n",
      "2024-02-14 14:17:40.607395: E external/local_xla/xla/stream_executor/cuda/cuda_dnn.cc:9261] Unable to register cuDNN factory: Attempting to register factory for plugin cuDNN when one has already been registered\n",
      "2024-02-14 14:17:40.607446: E external/local_xla/xla/stream_executor/cuda/cuda_fft.cc:607] Unable to register cuFFT factory: Attempting to register factory for plugin cuFFT when one has already been registered\n",
      "2024-02-14 14:17:40.653363: E external/local_xla/xla/stream_executor/cuda/cuda_blas.cc:1515] Unable to register cuBLAS factory: Attempting to register factory for plugin cuBLAS when one has already been registered\n",
      "2024-02-14 14:17:40.746598: I tensorflow/core/platform/cpu_feature_guard.cc:182] This TensorFlow binary is optimized to use available CPU instructions in performance-critical operations.\n",
      "To enable the following instructions: AVX2 AVX_VNNI FMA, in other operations, rebuild TensorFlow with the appropriate compiler flags.\n",
      "2024-02-14 14:17:41.905875: W tensorflow/compiler/tf2tensorrt/utils/py_utils.cc:38] TF-TRT Warning: Could not find TensorRT\n"
     ]
    }
   ],
   "source": [
    "import tensorflow as tf\n",
    "import numpy as np\n",
    "import pandas as pd\n",
    "from sklearn.model_selection import train_test_split\n",
    "from sklearn.datasets import load_breast_cancer\n",
    "from sklearn.preprocessing import StandardScaler\n",
    "from bayes_opt import BayesianOptimization"
   ]
  },
  {
   "cell_type": "code",
   "execution_count": 3,
   "metadata": {},
   "outputs": [],
   "source": [
    "\n",
    "# Load and preprocess the data\n",
    "cancer = load_breast_cancer()\n",
    "X = cancer.data\n",
    "y = cancer.target\n",
    "X_train, X_test, y_train, y_test = train_test_split(X, y, test_size=0.2, random_state=42)\n",
    "scaler = StandardScaler()\n",
    "X_train = scaler.fit_transform(X_train)\n",
    "X_test = scaler.transform(X_test)"
   ]
  },
  {
   "cell_type": "code",
   "execution_count": 4,
   "metadata": {},
   "outputs": [],
   "source": [
    "# Define the neural network architecture\n",
    "def create_model(learning_rate, num_hidden_layers, num_neurons):\n",
    "    model = tf.keras.Sequential()\n",
    "    for i in range(num_hidden_layers):\n",
    "        model.add(tf.keras.layers.Dense(num_neurons, activation='relu'))\n",
    "    model.add(tf.keras.layers.Dense(2, activation='softmax'))\n",
    "    optimizer = tf.keras.optimizers.Adam(learning_rate=learning_rate)\n",
    "    model.compile(loss='sparse_categorical_crossentropy', optimizer=optimizer, metrics=['accuracy'])\n",
    "    return model"
   ]
  },
  {
   "cell_type": "code",
   "execution_count": 5,
   "metadata": {},
   "outputs": [],
   "source": [
    "# Define the objective function to optimize\n",
    "def objective(learning_rate, num_hidden_layers, num_neurons):\n",
    "    model = create_model(learning_rate, int(num_hidden_layers), int(num_neurons))\n",
    "    model.fit(X_train, y_train, epochs=10, validation_data=(X_test, y_test), verbose=0)\n",
    "    val_loss, val_acc = model.evaluate(X_test, y_test, verbose=0)\n",
    "    return val_acc"
   ]
  },
  {
   "cell_type": "code",
   "execution_count": 6,
   "metadata": {},
   "outputs": [],
   "source": [
    "# Define the search space for hyperparameters\n",
    "pbounds = {'learning_rate': (0.0001, 0.1),\n",
    "           'num_hidden_layers': (1, 5),\n",
    "           'num_neurons': (5, 50)}"
   ]
  },
  {
   "cell_type": "code",
   "execution_count": 7,
   "metadata": {},
   "outputs": [
    {
     "name": "stdout",
     "output_type": "stream",
     "text": [
      "|   iter    |  target   | learni... | num_hi... | num_ne... |\n",
      "-------------------------------------------------------------\n",
      "| \u001b[0m1        \u001b[0m | \u001b[0m0.9825   \u001b[0m | \u001b[0m0.09941  \u001b[0m | \u001b[0m2.999    \u001b[0m | \u001b[0m18.17    \u001b[0m |\n",
      "| \u001b[0m2        \u001b[0m | \u001b[0m0.9649   \u001b[0m | \u001b[0m0.004418 \u001b[0m | \u001b[0m4.421    \u001b[0m | \u001b[0m45.5     \u001b[0m |\n",
      "| \u001b[0m3        \u001b[0m | \u001b[0m0.9649   \u001b[0m | \u001b[0m0.04627  \u001b[0m | \u001b[0m3.873    \u001b[0m | \u001b[0m35.88    \u001b[0m |\n",
      "| \u001b[0m4        \u001b[0m | \u001b[0m0.9825   \u001b[0m | \u001b[0m0.09455  \u001b[0m | \u001b[0m2.837    \u001b[0m | \u001b[0m33.53    \u001b[0m |\n",
      "| \u001b[0m5        \u001b[0m | \u001b[0m0.9649   \u001b[0m | \u001b[0m0.02331  \u001b[0m | \u001b[0m4.438    \u001b[0m | \u001b[0m12.48    \u001b[0m |\n",
      "| \u001b[0m6        \u001b[0m | \u001b[0m0.9825   \u001b[0m | \u001b[0m0.0811   \u001b[0m | \u001b[0m3.991    \u001b[0m | \u001b[0m21.06    \u001b[0m |\n",
      "| \u001b[0m7        \u001b[0m | \u001b[0m0.9825   \u001b[0m | \u001b[0m0.02152  \u001b[0m | \u001b[0m1.646    \u001b[0m | \u001b[0m10.72    \u001b[0m |\n",
      "| \u001b[0m8        \u001b[0m | \u001b[0m0.9649   \u001b[0m | \u001b[0m0.07627  \u001b[0m | \u001b[0m3.959    \u001b[0m | \u001b[0m21.07    \u001b[0m |\n",
      "| \u001b[0m9        \u001b[0m | \u001b[0m0.9825   \u001b[0m | \u001b[0m0.01397  \u001b[0m | \u001b[0m3.071    \u001b[0m | \u001b[0m35.43    \u001b[0m |\n",
      "| \u001b[0m10       \u001b[0m | \u001b[0m0.9649   \u001b[0m | \u001b[0m0.01386  \u001b[0m | \u001b[0m2.39     \u001b[0m | \u001b[0m28.73    \u001b[0m |\n",
      "| \u001b[0m11       \u001b[0m | \u001b[0m0.9737   \u001b[0m | \u001b[0m0.04459  \u001b[0m | \u001b[0m3.533    \u001b[0m | \u001b[0m15.98    \u001b[0m |\n",
      "| \u001b[0m12       \u001b[0m | \u001b[0m0.9649   \u001b[0m | \u001b[0m0.0919   \u001b[0m | \u001b[0m4.574    \u001b[0m | \u001b[0m30.29    \u001b[0m |\n",
      "| \u001b[0m13       \u001b[0m | \u001b[0m0.9737   \u001b[0m | \u001b[0m0.05057  \u001b[0m | \u001b[0m2.749    \u001b[0m | \u001b[0m47.06    \u001b[0m |\n",
      "| \u001b[0m14       \u001b[0m | \u001b[0m0.9649   \u001b[0m | \u001b[0m0.01725  \u001b[0m | \u001b[0m2.286    \u001b[0m | \u001b[0m26.61    \u001b[0m |\n",
      "| \u001b[0m15       \u001b[0m | \u001b[0m0.9825   \u001b[0m | \u001b[0m0.03943  \u001b[0m | \u001b[0m4.754    \u001b[0m | \u001b[0m34.56    \u001b[0m |\n",
      "| \u001b[0m16       \u001b[0m | \u001b[0m0.9737   \u001b[0m | \u001b[0m0.07196  \u001b[0m | \u001b[0m2.342    \u001b[0m | \u001b[0m38.65    \u001b[0m |\n",
      "| \u001b[0m17       \u001b[0m | \u001b[0m0.9737   \u001b[0m | \u001b[0m0.002885 \u001b[0m | \u001b[0m2.552    \u001b[0m | \u001b[0m36.02    \u001b[0m |\n",
      "| \u001b[0m18       \u001b[0m | \u001b[0m0.8509   \u001b[0m | \u001b[0m0.0603   \u001b[0m | \u001b[0m4.306    \u001b[0m | \u001b[0m37.21    \u001b[0m |\n",
      "| \u001b[0m19       \u001b[0m | \u001b[0m0.9649   \u001b[0m | \u001b[0m0.004796 \u001b[0m | \u001b[0m4.073    \u001b[0m | \u001b[0m21.02    \u001b[0m |\n",
      "| \u001b[0m20       \u001b[0m | \u001b[0m0.9825   \u001b[0m | \u001b[0m0.04028  \u001b[0m | \u001b[0m2.448    \u001b[0m | \u001b[0m45.5     \u001b[0m |\n",
      "| \u001b[0m21       \u001b[0m | \u001b[0m0.9825   \u001b[0m | \u001b[0m0.08565  \u001b[0m | \u001b[0m1.893    \u001b[0m | \u001b[0m21.01    \u001b[0m |\n",
      "| \u001b[0m22       \u001b[0m | \u001b[0m0.9474   \u001b[0m | \u001b[0m0.0307   \u001b[0m | \u001b[0m3.583    \u001b[0m | \u001b[0m43.85    \u001b[0m |\n",
      "| \u001b[0m23       \u001b[0m | \u001b[0m0.9825   \u001b[0m | \u001b[0m0.03221  \u001b[0m | \u001b[0m2.818    \u001b[0m | \u001b[0m14.22    \u001b[0m |\n",
      "| \u001b[0m24       \u001b[0m | \u001b[0m0.9737   \u001b[0m | \u001b[0m0.04     \u001b[0m | \u001b[0m2.402    \u001b[0m | \u001b[0m45.58    \u001b[0m |\n",
      "| \u001b[0m25       \u001b[0m | \u001b[0m0.9737   \u001b[0m | \u001b[0m0.04806  \u001b[0m | \u001b[0m2.105    \u001b[0m | \u001b[0m12.38    \u001b[0m |\n",
      "=============================================================\n"
     ]
    }
   ],
   "source": [
    "# Perform Bayesian optimization\n",
    "optimizer = BayesianOptimization(f=objective, pbounds=pbounds, verbose=2)\n",
    "optimizer.maximize(init_points=5, n_iter=20)"
   ]
  },
  {
   "cell_type": "code",
   "execution_count": 8,
   "metadata": {},
   "outputs": [
    {
     "name": "stdout",
     "output_type": "stream",
     "text": [
      "Optimized hyperparameters:\n",
      "{'learning_rate': 0.09940764465149246, 'num_hidden_layers': 2.9994850555888997, 'num_neurons': 18.172399993787913}\n",
      "Validation accuracy: 98.25%\n"
     ]
    }
   ],
   "source": [
    "# Print the optimized hyperparameters and validation accuracy\n",
    "print('Optimized hyperparameters:')\n",
    "print(optimizer.max['params'])\n",
    "print('Validation accuracy: {:.2f}%'.format(optimizer.max['target'] * 100))"
   ]
  },
  {
   "cell_type": "code",
   "execution_count": null,
   "metadata": {},
   "outputs": [],
   "source": []
  }
 ],
 "metadata": {
  "kernelspec": {
   "display_name": "Python 3 (ipykernel)",
   "language": "python",
   "name": "python3"
  },
  "language_info": {
   "codemirror_mode": {
    "name": "ipython",
    "version": 3
   },
   "file_extension": ".py",
   "mimetype": "text/x-python",
   "name": "python",
   "nbconvert_exporter": "python",
   "pygments_lexer": "ipython3",
   "version": "3.11.6"
  },
  "vscode": {
   "interpreter": {
    "hash": "f0051305819c00f3c67001f9fdd376c54aa8e69e0ddd05df36d593c70cd82294"
   }
  }
 },
 "nbformat": 4,
 "nbformat_minor": 4
}
