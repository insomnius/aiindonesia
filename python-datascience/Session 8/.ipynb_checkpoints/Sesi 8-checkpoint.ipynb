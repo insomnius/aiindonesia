{
 "cells": [
  {
   "cell_type": "code",
   "execution_count": 2,
   "metadata": {},
   "outputs": [
    {
     "name": "stdout",
     "output_type": "stream",
     "text": [
      "Looking in indexes: https://pypi.org/simple, https://pypi.ngc.nvidia.com\n",
      "Collecting bayesian-optimization\n",
      "  Downloading bayesian_optimization-1.4.2-py3-none-any.whl (17 kB)\n",
      "Collecting colorama>=0.4.6\n",
      "  Downloading colorama-0.4.6-py2.py3-none-any.whl (25 kB)\n",
      "Requirement already satisfied: scikit-learn>=0.18.0 in /home/ruby/anaconda3/envs/yolox/lib/python3.8/site-packages (from bayesian-optimization) (0.24.2)\n",
      "Requirement already satisfied: scipy>=1.0.0 in /home/ruby/anaconda3/envs/yolox/lib/python3.8/site-packages (from bayesian-optimization) (1.5.4)\n",
      "Requirement already satisfied: numpy>=1.9.0 in /home/ruby/anaconda3/envs/yolox/lib/python3.8/site-packages (from bayesian-optimization) (1.23.4)\n",
      "Requirement already satisfied: threadpoolctl>=2.0.0 in /home/ruby/anaconda3/envs/yolox/lib/python3.8/site-packages (from scikit-learn>=0.18.0->bayesian-optimization) (3.0.0)\n",
      "Requirement already satisfied: joblib>=0.11 in /home/ruby/anaconda3/envs/yolox/lib/python3.8/site-packages (from scikit-learn>=0.18.0->bayesian-optimization) (1.0.1)\n",
      "Installing collected packages: colorama, bayesian-optimization\n",
      "Successfully installed bayesian-optimization-1.4.2 colorama-0.4.6\n"
     ]
    }
   ],
   "source": [
    "!pip install bayesian-optimization"
   ]
  },
  {
   "cell_type": "code",
   "execution_count": 6,
   "metadata": {},
   "outputs": [],
   "source": [
    "import tensorflow as tf\n",
    "import numpy as np\n",
    "import pandas as pd\n",
    "from sklearn.model_selection import train_test_split\n",
    "from sklearn.datasets import load_breast_cancer\n",
    "from sklearn.preprocessing import StandardScaler\n",
    "from bayes_opt import BayesianOptimization"
   ]
  },
  {
   "cell_type": "code",
   "execution_count": 7,
   "metadata": {},
   "outputs": [],
   "source": [
    "\n",
    "# Load and preprocess the data\n",
    "cancer = load_breast_cancer()\n",
    "X = cancer.data\n",
    "y = cancer.target\n",
    "X_train, X_test, y_train, y_test = train_test_split(X, y, test_size=0.2, random_state=42)\n",
    "scaler = StandardScaler()\n",
    "X_train = scaler.fit_transform(X_train)\n",
    "X_test = scaler.transform(X_test)"
   ]
  },
  {
   "cell_type": "code",
   "execution_count": 18,
   "metadata": {},
   "outputs": [],
   "source": [
    "# Define the neural network architecture\n",
    "def create_model(learning_rate, num_hidden_layers, num_neurons):\n",
    "    model = tf.keras.Sequential()\n",
    "    for i in range(num_hidden_layers):\n",
    "        model.add(tf.keras.layers.Dense(num_neurons, activation='relu'))\n",
    "    model.add(tf.keras.layers.Dense(2, activation='softmax'))\n",
    "    optimizer = tf.keras.optimizers.Adam(learning_rate=learning_rate)\n",
    "    model.compile(loss='sparse_categorical_crossentropy', optimizer=optimizer, metrics=['accuracy'])\n",
    "    return model"
   ]
  },
  {
   "cell_type": "code",
   "execution_count": 19,
   "metadata": {},
   "outputs": [],
   "source": [
    "# Define the objective function to optimize\n",
    "def objective(learning_rate, num_hidden_layers, num_neurons):\n",
    "    model = create_model(learning_rate, int(num_hidden_layers), int(num_neurons))\n",
    "    model.fit(X_train, y_train, epochs=10, validation_data=(X_test, y_test), verbose=0)\n",
    "    val_loss, val_acc = model.evaluate(X_test, y_test, verbose=0)\n",
    "    return val_acc"
   ]
  },
  {
   "cell_type": "code",
   "execution_count": 20,
   "metadata": {},
   "outputs": [],
   "source": [
    "# Define the search space for hyperparameters\n",
    "pbounds = {'learning_rate': (0.0001, 0.1),\n",
    "           'num_hidden_layers': (1, 5),\n",
    "           'num_neurons': (5, 50)}"
   ]
  },
  {
   "cell_type": "code",
   "execution_count": 21,
   "metadata": {},
   "outputs": [
    {
     "name": "stdout",
     "output_type": "stream",
     "text": [
      "|   iter    |  target   | learni... | num_hi... | num_ne... |\n",
      "-------------------------------------------------------------\n",
      "| \u001b[0m1        \u001b[0m | \u001b[0m0.9737   \u001b[0m | \u001b[0m0.03727  \u001b[0m | \u001b[0m2.761    \u001b[0m | \u001b[0m26.91    \u001b[0m |\n",
      "| \u001b[0m2        \u001b[0m | \u001b[0m0.9474   \u001b[0m | \u001b[0m0.06867  \u001b[0m | \u001b[0m4.325    \u001b[0m | \u001b[0m43.95    \u001b[0m |\n",
      "| \u001b[0m3        \u001b[0m | \u001b[0m0.9737   \u001b[0m | \u001b[0m0.09888  \u001b[0m | \u001b[0m2.255    \u001b[0m | \u001b[0m21.9     \u001b[0m |\n",
      "| \u001b[95m4        \u001b[0m | \u001b[95m0.9912   \u001b[0m | \u001b[95m0.06506  \u001b[0m | \u001b[95m1.656    \u001b[0m | \u001b[95m9.991    \u001b[0m |\n",
      "| \u001b[0m5        \u001b[0m | \u001b[0m0.9825   \u001b[0m | \u001b[0m0.03861  \u001b[0m | \u001b[0m2.885    \u001b[0m | \u001b[0m6.717    \u001b[0m |\n",
      "| \u001b[0m6        \u001b[0m | \u001b[0m0.6228   \u001b[0m | \u001b[0m0.0001   \u001b[0m | \u001b[0m5.0      \u001b[0m | \u001b[0m13.54    \u001b[0m |\n",
      "| \u001b[0m7        \u001b[0m | \u001b[0m0.9474   \u001b[0m | \u001b[0m0.08968  \u001b[0m | \u001b[0m1.02     \u001b[0m | \u001b[0m8.035    \u001b[0m |\n",
      "| \u001b[0m8        \u001b[0m | \u001b[0m0.9649   \u001b[0m | \u001b[0m0.07118  \u001b[0m | \u001b[0m4.987    \u001b[0m | \u001b[0m24.11    \u001b[0m |\n",
      "| \u001b[0m9        \u001b[0m | \u001b[0m0.9737   \u001b[0m | \u001b[0m0.04351  \u001b[0m | \u001b[0m4.964    \u001b[0m | \u001b[0m30.7     \u001b[0m |\n",
      "| \u001b[0m10       \u001b[0m | \u001b[0m0.9737   \u001b[0m | \u001b[0m0.1      \u001b[0m | \u001b[0m1.0      \u001b[0m | \u001b[0m31.17    \u001b[0m |\n",
      "| \u001b[0m11       \u001b[0m | \u001b[0m0.9649   \u001b[0m | \u001b[0m0.0001   \u001b[0m | \u001b[0m3.433    \u001b[0m | \u001b[0m35.09    \u001b[0m |\n",
      "| \u001b[0m12       \u001b[0m | \u001b[0m0.9649   \u001b[0m | \u001b[0m0.02091  \u001b[0m | \u001b[0m1.007    \u001b[0m | \u001b[0m39.49    \u001b[0m |\n",
      "| \u001b[0m13       \u001b[0m | \u001b[0m0.9649   \u001b[0m | \u001b[0m0.0949   \u001b[0m | \u001b[0m1.0      \u001b[0m | \u001b[0m49.47    \u001b[0m |\n",
      "| \u001b[0m14       \u001b[0m | \u001b[0m0.9474   \u001b[0m | \u001b[0m0.0001   \u001b[0m | \u001b[0m5.0      \u001b[0m | \u001b[0m50.0     \u001b[0m |\n",
      "| \u001b[0m15       \u001b[0m | \u001b[0m0.9649   \u001b[0m | \u001b[0m0.05503  \u001b[0m | \u001b[0m4.97     \u001b[0m | \u001b[0m39.03    \u001b[0m |\n",
      "| \u001b[0m16       \u001b[0m | \u001b[0m0.9649   \u001b[0m | \u001b[0m0.1      \u001b[0m | \u001b[0m5.0      \u001b[0m | \u001b[0m5.0      \u001b[0m |\n",
      "| \u001b[0m17       \u001b[0m | \u001b[0m0.7895   \u001b[0m | \u001b[0m0.0001   \u001b[0m | \u001b[0m1.0      \u001b[0m | \u001b[0m45.48    \u001b[0m |\n",
      "| \u001b[0m18       \u001b[0m | \u001b[0m0.9825   \u001b[0m | \u001b[0m0.01094  \u001b[0m | \u001b[0m1.145    \u001b[0m | \u001b[0m24.54    \u001b[0m |\n",
      "| \u001b[0m19       \u001b[0m | \u001b[0m0.9649   \u001b[0m | \u001b[0m0.1      \u001b[0m | \u001b[0m1.0      \u001b[0m | \u001b[0m36.23    \u001b[0m |\n",
      "| \u001b[0m20       \u001b[0m | \u001b[0m0.9825   \u001b[0m | \u001b[0m0.1      \u001b[0m | \u001b[0m1.0      \u001b[0m | \u001b[0m18.74    \u001b[0m |\n",
      "| \u001b[0m21       \u001b[0m | \u001b[0m0.8158   \u001b[0m | \u001b[0m0.0001   \u001b[0m | \u001b[0m5.0      \u001b[0m | \u001b[0m20.16    \u001b[0m |\n",
      "| \u001b[0m22       \u001b[0m | \u001b[0m0.9474   \u001b[0m | \u001b[0m0.1      \u001b[0m | \u001b[0m5.0      \u001b[0m | \u001b[0m8.109    \u001b[0m |\n",
      "| \u001b[0m23       \u001b[0m | \u001b[0m0.9825   \u001b[0m | \u001b[0m0.1      \u001b[0m | \u001b[0m5.0      \u001b[0m | \u001b[0m27.62    \u001b[0m |\n",
      "| \u001b[0m24       \u001b[0m | \u001b[0m0.9825   \u001b[0m | \u001b[0m0.05328  \u001b[0m | \u001b[0m1.236    \u001b[0m | \u001b[0m5.045    \u001b[0m |\n",
      "| \u001b[0m25       \u001b[0m | \u001b[0m0.9825   \u001b[0m | \u001b[0m0.1      \u001b[0m | \u001b[0m1.0      \u001b[0m | \u001b[0m28.53    \u001b[0m |\n",
      "=============================================================\n"
     ]
    }
   ],
   "source": [
    "# Perform Bayesian optimization\n",
    "optimizer = BayesianOptimization(f=objective, pbounds=pbounds, verbose=2)\n",
    "optimizer.maximize(init_points=5, n_iter=20)"
   ]
  },
  {
   "cell_type": "code",
   "execution_count": 23,
   "metadata": {},
   "outputs": [
    {
     "name": "stdout",
     "output_type": "stream",
     "text": [
      "Optimized hyperparameters:\n",
      "{'learning_rate': 0.0650557972582242, 'num_hidden_layers': 1.6563406602662605, 'num_neurons': 9.990944725498402}\n",
      "Validation accuracy: 99.12%\n"
     ]
    }
   ],
   "source": [
    "# Print the optimized hyperparameters and validation accuracy\n",
    "print('Optimized hyperparameters:')\n",
    "print(optimizer.max['params'])\n",
    "print('Validation accuracy: {:.2f}%'.format(optimizer.max['target'] * 100))"
   ]
  },
  {
   "cell_type": "code",
   "execution_count": null,
   "metadata": {},
   "outputs": [],
   "source": []
  }
 ],
 "metadata": {
  "kernelspec": {
   "display_name": "yolox",
   "language": "python",
   "name": "python3"
  },
  "language_info": {
   "codemirror_mode": {
    "name": "ipython",
    "version": 3
   },
   "file_extension": ".py",
   "mimetype": "text/x-python",
   "name": "python",
   "nbconvert_exporter": "python",
   "pygments_lexer": "ipython3",
   "version": "3.8.12"
  },
  "orig_nbformat": 4,
  "vscode": {
   "interpreter": {
    "hash": "f0051305819c00f3c67001f9fdd376c54aa8e69e0ddd05df36d593c70cd82294"
   }
  }
 },
 "nbformat": 4,
 "nbformat_minor": 2
}
