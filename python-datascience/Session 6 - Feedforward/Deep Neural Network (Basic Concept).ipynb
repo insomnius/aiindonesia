{
 "cells": [
  {
   "cell_type": "code",
   "execution_count": 1,
   "metadata": {
    "id": "MNEQxQnCBJL1"
   },
   "outputs": [
    {
     "name": "stderr",
     "output_type": "stream",
     "text": [
      "2024-02-09 14:49:10.770436: I tensorflow/core/util/port.cc:113] oneDNN custom operations are on. You may see slightly different numerical results due to floating-point round-off errors from different computation orders. To turn them off, set the environment variable `TF_ENABLE_ONEDNN_OPTS=0`.\n",
      "2024-02-09 14:49:10.812393: E external/local_xla/xla/stream_executor/cuda/cuda_dnn.cc:9261] Unable to register cuDNN factory: Attempting to register factory for plugin cuDNN when one has already been registered\n",
      "2024-02-09 14:49:10.812474: E external/local_xla/xla/stream_executor/cuda/cuda_fft.cc:607] Unable to register cuFFT factory: Attempting to register factory for plugin cuFFT when one has already been registered\n",
      "2024-02-09 14:49:10.813844: E external/local_xla/xla/stream_executor/cuda/cuda_blas.cc:1515] Unable to register cuBLAS factory: Attempting to register factory for plugin cuBLAS when one has already been registered\n",
      "2024-02-09 14:49:10.822138: I tensorflow/core/platform/cpu_feature_guard.cc:182] This TensorFlow binary is optimized to use available CPU instructions in performance-critical operations.\n",
      "To enable the following instructions: AVX2 AVX_VNNI FMA, in other operations, rebuild TensorFlow with the appropriate compiler flags.\n",
      "2024-02-09 14:49:11.595014: W tensorflow/compiler/tf2tensorrt/utils/py_utils.cc:38] TF-TRT Warning: Could not find TensorRT\n"
     ]
    }
   ],
   "source": [
    "import numpy as np\n",
    "import pandas as pd\n",
    "import matplotlib.pyplot as plt\n",
    "import seaborn as sns\n",
    "\n",
    "from sklearn.model_selection import train_test_split\n",
    "\n",
    "from keras.models import Sequential\n",
    "from keras.layers import Dense"
   ]
  },
  {
   "cell_type": "code",
   "execution_count": 2,
   "metadata": {
    "colab": {
     "base_uri": "https://localhost:8080/"
    },
    "executionInfo": {
     "elapsed": 14,
     "status": "ok",
     "timestamp": 1685849483810,
     "user": {
      "displayName": "Zaky Syihan",
      "userId": "05654158214121247060"
     },
     "user_tz": -420
    },
    "id": "lD_TMxofBJL3",
    "outputId": "9a2df032-4348-4716-e6e0-96c36a37f961"
   },
   "outputs": [],
   "source": [
    "# plt.style.use('seaborn')"
   ]
  },
  {
   "cell_type": "markdown",
   "metadata": {
    "id": "1m5CtdDSBJL3"
   },
   "source": [
    "## Load Datasets"
   ]
  },
  {
   "cell_type": "code",
   "execution_count": 3,
   "metadata": {
    "colab": {
     "base_uri": "https://localhost:8080/",
     "height": 206
    },
    "executionInfo": {
     "elapsed": 12,
     "status": "ok",
     "timestamp": 1685849483811,
     "user": {
      "displayName": "Zaky Syihan",
      "userId": "05654158214121247060"
     },
     "user_tz": -420
    },
    "id": "Mle-KzmOBJL4",
    "outputId": "bbdcc1ed-4e75-484e-9838-ad2a9e6b5378"
   },
   "outputs": [
    {
     "data": {
      "text/html": [
       "<div>\n",
       "<style scoped>\n",
       "    .dataframe tbody tr th:only-of-type {\n",
       "        vertical-align: middle;\n",
       "    }\n",
       "\n",
       "    .dataframe tbody tr th {\n",
       "        vertical-align: top;\n",
       "    }\n",
       "\n",
       "    .dataframe thead th {\n",
       "        text-align: right;\n",
       "    }\n",
       "</style>\n",
       "<table border=\"1\" class=\"dataframe\">\n",
       "  <thead>\n",
       "    <tr style=\"text-align: right;\">\n",
       "      <th></th>\n",
       "      <th>preg_times</th>\n",
       "      <th>glucose</th>\n",
       "      <th>blood_press</th>\n",
       "      <th>skin_thickness</th>\n",
       "      <th>insulin</th>\n",
       "      <th>BMI</th>\n",
       "      <th>pedigree</th>\n",
       "      <th>age</th>\n",
       "      <th>class</th>\n",
       "    </tr>\n",
       "  </thead>\n",
       "  <tbody>\n",
       "    <tr>\n",
       "      <th>0</th>\n",
       "      <td>6</td>\n",
       "      <td>148</td>\n",
       "      <td>72</td>\n",
       "      <td>35</td>\n",
       "      <td>0</td>\n",
       "      <td>33.6</td>\n",
       "      <td>0.627</td>\n",
       "      <td>50</td>\n",
       "      <td>1</td>\n",
       "    </tr>\n",
       "    <tr>\n",
       "      <th>1</th>\n",
       "      <td>1</td>\n",
       "      <td>85</td>\n",
       "      <td>66</td>\n",
       "      <td>29</td>\n",
       "      <td>0</td>\n",
       "      <td>26.6</td>\n",
       "      <td>0.351</td>\n",
       "      <td>31</td>\n",
       "      <td>0</td>\n",
       "    </tr>\n",
       "    <tr>\n",
       "      <th>2</th>\n",
       "      <td>8</td>\n",
       "      <td>183</td>\n",
       "      <td>64</td>\n",
       "      <td>0</td>\n",
       "      <td>0</td>\n",
       "      <td>23.3</td>\n",
       "      <td>0.672</td>\n",
       "      <td>32</td>\n",
       "      <td>1</td>\n",
       "    </tr>\n",
       "    <tr>\n",
       "      <th>3</th>\n",
       "      <td>1</td>\n",
       "      <td>89</td>\n",
       "      <td>66</td>\n",
       "      <td>23</td>\n",
       "      <td>94</td>\n",
       "      <td>28.1</td>\n",
       "      <td>0.167</td>\n",
       "      <td>21</td>\n",
       "      <td>0</td>\n",
       "    </tr>\n",
       "    <tr>\n",
       "      <th>4</th>\n",
       "      <td>0</td>\n",
       "      <td>137</td>\n",
       "      <td>40</td>\n",
       "      <td>35</td>\n",
       "      <td>168</td>\n",
       "      <td>43.1</td>\n",
       "      <td>2.288</td>\n",
       "      <td>33</td>\n",
       "      <td>1</td>\n",
       "    </tr>\n",
       "  </tbody>\n",
       "</table>\n",
       "</div>"
      ],
      "text/plain": [
       "   preg_times  glucose  blood_press  skin_thickness  insulin   BMI  pedigree  \\\n",
       "0           6      148           72              35        0  33.6     0.627   \n",
       "1           1       85           66              29        0  26.6     0.351   \n",
       "2           8      183           64               0        0  23.3     0.672   \n",
       "3           1       89           66              23       94  28.1     0.167   \n",
       "4           0      137           40              35      168  43.1     2.288   \n",
       "\n",
       "   age  class  \n",
       "0   50      1  \n",
       "1   31      0  \n",
       "2   32      1  \n",
       "3   21      0  \n",
       "4   33      1  "
      ]
     },
     "execution_count": 3,
     "metadata": {},
     "output_type": "execute_result"
    }
   ],
   "source": [
    "df_diabetes = pd.read_csv('./pima_diabetes.csv', names=['preg_times', 'glucose', 'blood_press', 'skin_thickness', 'insulin', 'BMI', 'pedigree', 'age', 'class'])\n",
    "df_diabetes.head()"
   ]
  },
  {
   "cell_type": "code",
   "execution_count": 4,
   "metadata": {
    "colab": {
     "base_uri": "https://localhost:8080/"
    },
    "executionInfo": {
     "elapsed": 10,
     "status": "ok",
     "timestamp": 1685849483811,
     "user": {
      "displayName": "Zaky Syihan",
      "userId": "05654158214121247060"
     },
     "user_tz": -420
    },
    "id": "cD_AR1M3BJL5",
    "outputId": "fbfd2d2f-68cb-4fee-9b29-8fff0044764d"
   },
   "outputs": [
    {
     "name": "stdout",
     "output_type": "stream",
     "text": [
      "Total data: 768\n",
      "Total features: 9\n"
     ]
    }
   ],
   "source": [
    "print('Total data:', df_diabetes.shape[0])\n",
    "print('Total features:', df_diabetes.shape[1])"
   ]
  },
  {
   "cell_type": "code",
   "execution_count": 5,
   "metadata": {
    "colab": {
     "base_uri": "https://localhost:8080/",
     "height": 724
    },
    "executionInfo": {
     "elapsed": 642,
     "status": "ok",
     "timestamp": 1685849484445,
     "user": {
      "displayName": "Zaky Syihan",
      "userId": "05654158214121247060"
     },
     "user_tz": -420
    },
    "id": "V4jIKBe1BJL6",
    "outputId": "a4074a73-5cee-48b7-cd36-fb79236a2ba3"
   },
   "outputs": [
    {
     "name": "stderr",
     "output_type": "stream",
     "text": [
      "/tmp/ipykernel_2453/4210084904.py:1: UserWarning: \n",
      "\n",
      "`distplot` is a deprecated function and will be removed in seaborn v0.14.0.\n",
      "\n",
      "Please adapt your code to use either `displot` (a figure-level function with\n",
      "similar flexibility) or `histplot` (an axes-level function for histograms).\n",
      "\n",
      "For a guide to updating your code to use the new functions, please see\n",
      "https://gist.github.com/mwaskom/de44147ed2974457ad6372750bbe5751\n",
      "\n",
      "  sns.distplot(df_diabetes['age'])\n"
     ]
    },
    {
     "data": {
      "text/plain": [
       "<Axes: xlabel='age', ylabel='Density'>"
      ]
     },
     "execution_count": 5,
     "metadata": {},
     "output_type": "execute_result"
    },
    {
     "data": {
      "image/png": "[encoded data removed]",
      "text/plain": [
       "<Figure size 640x480 with 1 Axes>"
      ]
     },
     "metadata": {},
     "output_type": "display_data"
    }
   ],
   "source": [
    "sns.distplot(df_diabetes['age'])"
   ]
  },
  {
   "cell_type": "code",
   "execution_count": 6,
   "metadata": {
    "colab": {
     "base_uri": "https://localhost:8080/",
     "height": 300
    },
    "executionInfo": {
     "elapsed": 23,
     "status": "ok",
     "timestamp": 1685849484445,
     "user": {
      "displayName": "Zaky Syihan",
      "userId": "05654158214121247060"
     },
     "user_tz": -420
    },
    "id": "o40C22LXBJL6",
    "outputId": "6af1fad5-765a-4b8e-af65-984677743ebb"
   },
   "outputs": [
    {
     "data": {
      "text/html": [
       "<div>\n",
       "<style scoped>\n",
       "    .dataframe tbody tr th:only-of-type {\n",
       "        vertical-align: middle;\n",
       "    }\n",
       "\n",
       "    .dataframe tbody tr th {\n",
       "        vertical-align: top;\n",
       "    }\n",
       "\n",
       "    .dataframe thead th {\n",
       "        text-align: right;\n",
       "    }\n",
       "</style>\n",
       "<table border=\"1\" class=\"dataframe\">\n",
       "  <thead>\n",
       "    <tr style=\"text-align: right;\">\n",
       "      <th></th>\n",
       "      <th>preg_times</th>\n",
       "      <th>glucose</th>\n",
       "      <th>blood_press</th>\n",
       "      <th>skin_thickness</th>\n",
       "      <th>insulin</th>\n",
       "      <th>BMI</th>\n",
       "      <th>pedigree</th>\n",
       "      <th>age</th>\n",
       "      <th>class</th>\n",
       "    </tr>\n",
       "  </thead>\n",
       "  <tbody>\n",
       "    <tr>\n",
       "      <th>count</th>\n",
       "      <td>768.000000</td>\n",
       "      <td>768.000000</td>\n",
       "      <td>768.000000</td>\n",
       "      <td>768.000000</td>\n",
       "      <td>768.000000</td>\n",
       "      <td>768.000000</td>\n",
       "      <td>768.000000</td>\n",
       "      <td>768.000000</td>\n",
       "      <td>768.000000</td>\n",
       "    </tr>\n",
       "    <tr>\n",
       "      <th>mean</th>\n",
       "      <td>3.845052</td>\n",
       "      <td>120.894531</td>\n",
       "      <td>69.105469</td>\n",
       "      <td>20.536458</td>\n",
       "      <td>79.799479</td>\n",
       "      <td>31.992578</td>\n",
       "      <td>0.471876</td>\n",
       "      <td>33.240885</td>\n",
       "      <td>0.348958</td>\n",
       "    </tr>\n",
       "    <tr>\n",
       "      <th>std</th>\n",
       "      <td>3.369578</td>\n",
       "      <td>31.972618</td>\n",
       "      <td>19.355807</td>\n",
       "      <td>15.952218</td>\n",
       "      <td>115.244002</td>\n",
       "      <td>7.884160</td>\n",
       "      <td>0.331329</td>\n",
       "      <td>11.760232</td>\n",
       "      <td>0.476951</td>\n",
       "    </tr>\n",
       "    <tr>\n",
       "      <th>min</th>\n",
       "      <td>0.000000</td>\n",
       "      <td>0.000000</td>\n",
       "      <td>0.000000</td>\n",
       "      <td>0.000000</td>\n",
       "      <td>0.000000</td>\n",
       "      <td>0.000000</td>\n",
       "      <td>0.078000</td>\n",
       "      <td>21.000000</td>\n",
       "      <td>0.000000</td>\n",
       "    </tr>\n",
       "    <tr>\n",
       "      <th>25%</th>\n",
       "      <td>1.000000</td>\n",
       "      <td>99.000000</td>\n",
       "      <td>62.000000</td>\n",
       "      <td>0.000000</td>\n",
       "      <td>0.000000</td>\n",
       "      <td>27.300000</td>\n",
       "      <td>0.243750</td>\n",
       "      <td>24.000000</td>\n",
       "      <td>0.000000</td>\n",
       "    </tr>\n",
       "    <tr>\n",
       "      <th>50%</th>\n",
       "      <td>3.000000</td>\n",
       "      <td>117.000000</td>\n",
       "      <td>72.000000</td>\n",
       "      <td>23.000000</td>\n",
       "      <td>30.500000</td>\n",
       "      <td>32.000000</td>\n",
       "      <td>0.372500</td>\n",
       "      <td>29.000000</td>\n",
       "      <td>0.000000</td>\n",
       "    </tr>\n",
       "    <tr>\n",
       "      <th>75%</th>\n",
       "      <td>6.000000</td>\n",
       "      <td>140.250000</td>\n",
       "      <td>80.000000</td>\n",
       "      <td>32.000000</td>\n",
       "      <td>127.250000</td>\n",
       "      <td>36.600000</td>\n",
       "      <td>0.626250</td>\n",
       "      <td>41.000000</td>\n",
       "      <td>1.000000</td>\n",
       "    </tr>\n",
       "    <tr>\n",
       "      <th>max</th>\n",
       "      <td>17.000000</td>\n",
       "      <td>199.000000</td>\n",
       "      <td>122.000000</td>\n",
       "      <td>99.000000</td>\n",
       "      <td>846.000000</td>\n",
       "      <td>67.100000</td>\n",
       "      <td>2.420000</td>\n",
       "      <td>81.000000</td>\n",
       "      <td>1.000000</td>\n",
       "    </tr>\n",
       "  </tbody>\n",
       "</table>\n",
       "</div>"
      ],
      "text/plain": [
       "       preg_times     glucose  blood_press  skin_thickness     insulin  \\\n",
       "count  768.000000  768.000000   768.000000      768.000000  768.000000   \n",
       "mean     3.845052  120.894531    69.105469       20.536458   79.799479   \n",
       "std      3.369578   31.972618    19.355807       15.952218  115.244002   \n",
       "min      0.000000    0.000000     0.000000        0.000000    0.000000   \n",
       "25%      1.000000   99.000000    62.000000        0.000000    0.000000   \n",
       "50%      3.000000  117.000000    72.000000       23.000000   30.500000   \n",
       "75%      6.000000  140.250000    80.000000       32.000000  127.250000   \n",
       "max     17.000000  199.000000   122.000000       99.000000  846.000000   \n",
       "\n",
       "              BMI    pedigree         age       class  \n",
       "count  768.000000  768.000000  768.000000  768.000000  \n",
       "mean    31.992578    0.471876   33.240885    0.348958  \n",
       "std      7.884160    0.331329   11.760232    0.476951  \n",
       "min      0.000000    0.078000   21.000000    0.000000  \n",
       "25%     27.300000    0.243750   24.000000    0.000000  \n",
       "50%     32.000000    0.372500   29.000000    0.000000  \n",
       "75%     36.600000    0.626250   41.000000    1.000000  \n",
       "max     67.100000    2.420000   81.000000    1.000000  "
      ]
     },
     "execution_count": 6,
     "metadata": {},
     "output_type": "execute_result"
    }
   ],
   "source": [
    "df_diabetes.describe()"
   ]
  },
  {
   "cell_type": "markdown",
   "metadata": {
    "id": "Wf8X4uaRBJL6"
   },
   "source": [
    "## Split Datasets"
   ]
  },
  {
   "cell_type": "code",
   "execution_count": 7,
   "metadata": {
    "colab": {
     "base_uri": "https://localhost:8080/",
     "height": 166
    },
    "executionInfo": {
     "elapsed": 14,
     "status": "error",
     "timestamp": 1686798719695,
     "user": {
      "displayName": "Fenchi Riti",
      "userId": "14484543260565313161"
     },
     "user_tz": -420
    },
    "id": "ZTapUd0hBJL6",
    "outputId": "93e239db-ee1c-42f6-b914-1b7e14eeebcd"
   },
   "outputs": [],
   "source": [
    "features = df_diabetes.values[:,:8]"
   ]
  },
  {
   "cell_type": "code",
   "execution_count": 8,
   "metadata": {
    "id": "6CcRKcAWBJL6"
   },
   "outputs": [],
   "source": [
    "labels = df_diabetes.values[:,8:]"
   ]
  },
  {
   "cell_type": "code",
   "execution_count": 9,
   "metadata": {
    "id": "QYim7x_bBJL7"
   },
   "outputs": [],
   "source": [
    "X_train, X_test, y_train, y_test = train_test_split(features, labels, test_size=0.2, random_state=40)"
   ]
  },
  {
   "cell_type": "code",
   "execution_count": 10,
   "metadata": {
    "colab": {
     "base_uri": "https://localhost:8080/"
    },
    "executionInfo": {
     "elapsed": 22,
     "status": "ok",
     "timestamp": 1685849484446,
     "user": {
      "displayName": "Zaky Syihan",
      "userId": "05654158214121247060"
     },
     "user_tz": -420
    },
    "id": "fBgJWVeM7e82",
    "outputId": "9d382ed9-4bfc-4be8-91b4-8be8675eddac"
   },
   "outputs": [
    {
     "data": {
      "text/plain": [
       "(614, 8)"
      ]
     },
     "execution_count": 10,
     "metadata": {},
     "output_type": "execute_result"
    }
   ],
   "source": [
    "X_train.shape"
   ]
  },
  {
   "cell_type": "markdown",
   "metadata": {
    "id": "k_eh99NTBJL7"
   },
   "source": [
    "## Define Model"
   ]
  },
  {
   "cell_type": "code",
   "execution_count": 11,
   "metadata": {
    "id": "xWoveHaZ2FoK"
   },
   "outputs": [],
   "source": [
    "# Artificial Neural Network / Multi-layer Perceptron / Fully Connected Neural Network\n",
    "\n",
    "# Convolutional Neural Network\n",
    "\n",
    "# Long-Short Term Memory Neural Network\n",
    "\n",
    "# Dll...\n"
   ]
  },
  {
   "cell_type": "code",
   "execution_count": 12,
   "metadata": {
    "colab": {
     "base_uri": "https://localhost:8080/"
    },
    "executionInfo": {
     "elapsed": 15,
     "status": "ok",
     "timestamp": 1685849484447,
     "user": {
      "displayName": "Zaky Syihan",
      "userId": "05654158214121247060"
     },
     "user_tz": -420
    },
    "id": "P6wwiKvgBJL7",
    "outputId": "87830454-7b5b-4227-c586-55a3b2345974"
   },
   "outputs": [
    {
     "name": "stdout",
     "output_type": "stream",
     "text": [
      "Model: \"sequential\"\n",
      "_________________________________________________________________\n",
      " Layer (type)                Output Shape              Param #   \n",
      "=================================================================\n",
      " dense (Dense)               (None, 12)                108       \n",
      "                                                                 \n",
      " dense_1 (Dense)             (None, 8)                 104       \n",
      "                                                                 \n",
      " dense_2 (Dense)             (None, 6)                 54        \n",
      "                                                                 \n",
      " dense_3 (Dense)             (None, 1)                 7         \n",
      "                                                                 \n",
      "=================================================================\n",
      "Total params: 273 (1.07 KB)\n",
      "Trainable params: 273 (1.07 KB)\n",
      "Non-trainable params: 0 (0.00 Byte)\n",
      "_________________________________________________________________\n"
     ]
    }
   ],
   "source": [
    "# define the keras sequential model\n",
    "model = Sequential()\n",
    "\n",
    "model.add(Dense(12, input_dim=8, activation='relu')) # input layer + 1st hidden layer\n",
    "model.add(Dense(8, activation='relu')) # 2nd hidden layer\n",
    "model.add(Dense(6, activation='relu')) # 3rd hidden layer\n",
    "model.add(Dense(1, activation='sigmoid')) # output layer\n",
    "\n",
    "model.summary()"
   ]
  },
  {
   "cell_type": "markdown",
   "metadata": {
    "id": "AVxRPm7MBJL8"
   },
   "source": [
    "## Compile Model"
   ]
  },
  {
   "cell_type": "code",
   "execution_count": 13,
   "metadata": {
    "id": "Hk4pfmmABJL8"
   },
   "outputs": [],
   "source": [
    "model.compile(loss='binary_crossentropy', optimizer='adam', metrics=['accuracy'])"
   ]
  },
  {
   "cell_type": "markdown",
   "metadata": {
    "id": "OA6vkrOTBJL8"
   },
   "source": [
    "## Train Model"
   ]
  },
  {
   "cell_type": "code",
   "execution_count": 14,
   "metadata": {
    "colab": {
     "base_uri": "https://localhost:8080/"
    },
    "executionInfo": {
     "elapsed": 27116,
     "status": "ok",
     "timestamp": 1685849511552,
     "user": {
      "displayName": "Zaky Syihan",
      "userId": "05654158214121247060"
     },
     "user_tz": -420
    },
    "id": "-hJa6Nm8BJL8",
    "outputId": "6d9cdbd3-3162-418e-dda9-192f361204c5",
    "scrolled": true
   },
   "outputs": [
    {
     "name": "stdout",
     "output_type": "stream",
     "text": [
      "Epoch 1/20\n",
      "307/307 [==============================] - 1s 1ms/step - loss: 0.8610 - accuracy: 0.5684\n",
      "Epoch 2/20\n",
      "307/307 [==============================] - 0s 985us/step - loss: 0.7078 - accuracy: 0.6433\n",
      "Epoch 3/20\n",
      "307/307 [==============================] - 0s 1ms/step - loss: 0.6809 - accuracy: 0.6580\n",
      "Epoch 4/20\n",
      "307/307 [==============================] - 0s 998us/step - loss: 0.6580 - accuracy: 0.6466\n",
      "Epoch 5/20\n",
      "307/307 [==============================] - 0s 1ms/step - loss: 0.6369 - accuracy: 0.6824\n",
      "Epoch 6/20\n",
      "307/307 [==============================] - 0s 983us/step - loss: 0.6237 - accuracy: 0.6743\n",
      "Epoch 7/20\n",
      "307/307 [==============================] - 0s 1ms/step - loss: 0.6205 - accuracy: 0.6808\n",
      "Epoch 8/20\n",
      "307/307 [==============================] - 0s 996us/step - loss: 0.6007 - accuracy: 0.6857\n",
      "Epoch 9/20\n",
      "307/307 [==============================] - 0s 999us/step - loss: 0.5980 - accuracy: 0.6824\n",
      "Epoch 10/20\n",
      "307/307 [==============================] - 0s 1ms/step - loss: 0.5882 - accuracy: 0.7085\n",
      "Epoch 11/20\n",
      "307/307 [==============================] - 0s 1ms/step - loss: 0.5915 - accuracy: 0.6938\n",
      "Epoch 12/20\n",
      "307/307 [==============================] - 0s 984us/step - loss: 0.5779 - accuracy: 0.7085\n",
      "Epoch 13/20\n",
      "307/307 [==============================] - 0s 948us/step - loss: 0.5721 - accuracy: 0.6954\n",
      "Epoch 14/20\n",
      "307/307 [==============================] - 0s 987us/step - loss: 0.5713 - accuracy: 0.7101\n",
      "Epoch 15/20\n",
      "307/307 [==============================] - 0s 1ms/step - loss: 0.5762 - accuracy: 0.6971\n",
      "Epoch 16/20\n",
      "307/307 [==============================] - 0s 1ms/step - loss: 0.5620 - accuracy: 0.7085\n",
      "Epoch 17/20\n",
      "307/307 [==============================] - 0s 994us/step - loss: 0.5635 - accuracy: 0.7329\n",
      "Epoch 18/20\n",
      "307/307 [==============================] - 0s 959us/step - loss: 0.5550 - accuracy: 0.7199\n",
      "Epoch 19/20\n",
      "307/307 [==============================] - 0s 944us/step - loss: 0.5611 - accuracy: 0.7003\n",
      "Epoch 20/20\n",
      "307/307 [==============================] - 0s 958us/step - loss: 0.5589 - accuracy: 0.7182\n"
     ]
    },
    {
     "data": {
      "text/plain": [
       "<keras.src.callbacks.History at 0x7fb5e45f34d0>"
      ]
     },
     "execution_count": 14,
     "metadata": {},
     "output_type": "execute_result"
    }
   ],
   "source": [
    "# fit the keras model on the dataset\n",
    "model.fit(X_train, y_train, epochs=20, batch_size=2)"
   ]
  },
  {
   "cell_type": "code",
   "execution_count": 15,
   "metadata": {
    "colab": {
     "base_uri": "https://localhost:8080/",
     "height": 496
    },
    "executionInfo": {
     "elapsed": 647,
     "status": "ok",
     "timestamp": 1685849512185,
     "user": {
      "displayName": "Zaky Syihan",
      "userId": "05654158214121247060"
     },
     "user_tz": -420
    },
    "id": "EBfRFU4j0EpM",
    "outputId": "c82b926a-9199-4e06-d2e5-65bcd81a52a4"
   },
   "outputs": [
    {
     "data": {
      "image/png": "[encoded data removed]",
      "text/plain": [
       "<Figure size 800x500 with 1 Axes>"
      ]
     },
     "metadata": {},
     "output_type": "display_data"
    }
   ],
   "source": [
    "plt.figure(figsize=[8,5])\n",
    "plt.plot(model.history.history['accuracy'], 'r')\n",
    "plt.legend(['Training Acc'])\n",
    "plt.xlabel('Epochs', fontsize=16)\n",
    "plt.ylabel('Accuracy', fontsize=16)\n",
    "plt.title('Accuracy Curves', fontsize=16)\n",
    "\n",
    "plt.show()"
   ]
  },
  {
   "cell_type": "markdown",
   "metadata": {
    "id": "11Y1bzM9BJL9"
   },
   "source": [
    "## Evaluate Model"
   ]
  },
  {
   "cell_type": "code",
   "execution_count": 16,
   "metadata": {
    "colab": {
     "base_uri": "https://localhost:8080/"
    },
    "executionInfo": {
     "elapsed": 889,
     "status": "ok",
     "timestamp": 1685849513071,
     "user": {
      "displayName": "Zaky Syihan",
      "userId": "05654158214121247060"
     },
     "user_tz": -420
    },
    "id": "xLerT7zmBJL9",
    "outputId": "cff350d1-ac3e-4209-d78e-73fa27b3baf7"
   },
   "outputs": [
    {
     "name": "stdout",
     "output_type": "stream",
     "text": [
      "Accuracy: 72.73\n"
     ]
    }
   ],
   "source": [
    "# evaluate the keras model\n",
    "_, accuracy = model.evaluate(X_test, y_test, verbose=False)\n",
    "print(f'Accuracy: {accuracy*100:.2f}')"
   ]
  },
  {
   "cell_type": "markdown",
   "metadata": {
    "id": "GjDDglSmBJL9"
   },
   "source": [
    "---"
   ]
  },
  {
   "cell_type": "markdown",
   "metadata": {
    "id": "EAqPPxkvWCYJ"
   },
   "source": [
    "## Experiments"
   ]
  },
  {
   "cell_type": "markdown",
   "metadata": {
    "id": "xrKjSR-aa5YP"
   },
   "source": [
    "### batchsize = 8"
   ]
  },
  {
   "cell_type": "code",
   "execution_count": 17,
   "metadata": {
    "colab": {
     "base_uri": "https://localhost:8080/"
    },
    "executionInfo": {
     "elapsed": 12858,
     "status": "ok",
     "timestamp": 1685849525927,
     "user": {
      "displayName": "Zaky Syihan",
      "userId": "05654158214121247060"
     },
     "user_tz": -420
    },
    "id": "JhB_NkZ9WNRB",
    "outputId": "f9c99a14-3276-4787-f8d3-27e07ce8c82f"
   },
   "outputs": [
    {
     "name": "stdout",
     "output_type": "stream",
     "text": [
      "Epoch 1/50\n",
      "77/77 [==============================] - 1s 1ms/step - loss: 0.6508 - accuracy: 0.6596\n",
      "Epoch 2/50\n",
      "77/77 [==============================] - 0s 2ms/step - loss: 0.6458 - accuracy: 0.6596\n",
      "Epoch 3/50\n",
      "77/77 [==============================] - 0s 1ms/step - loss: 0.6439 - accuracy: 0.6596\n",
      "Epoch 4/50\n",
      "77/77 [==============================] - 0s 1ms/step - loss: 0.6423 - accuracy: 0.6596\n",
      "Epoch 5/50\n",
      "77/77 [==============================] - 0s 1ms/step - loss: 0.6375 - accuracy: 0.6596\n",
      "Epoch 6/50\n",
      "77/77 [==============================] - 0s 1ms/step - loss: 0.6321 - accuracy: 0.6596\n",
      "Epoch 7/50\n",
      "77/77 [==============================] - 0s 1ms/step - loss: 0.6277 - accuracy: 0.6596\n",
      "Epoch 8/50\n",
      "77/77 [==============================] - 0s 1ms/step - loss: 0.6254 - accuracy: 0.6596\n",
      "Epoch 9/50\n",
      "77/77 [==============================] - 0s 1ms/step - loss: 0.6231 - accuracy: 0.6596\n",
      "Epoch 10/50\n",
      "77/77 [==============================] - 0s 1ms/step - loss: 0.6204 - accuracy: 0.6596\n",
      "Epoch 11/50\n",
      "77/77 [==============================] - 0s 1ms/step - loss: 0.6194 - accuracy: 0.6596\n",
      "Epoch 12/50\n",
      "77/77 [==============================] - 0s 1ms/step - loss: 0.6163 - accuracy: 0.6596\n",
      "Epoch 13/50\n",
      "77/77 [==============================] - 0s 1ms/step - loss: 0.6147 - accuracy: 0.6596\n",
      "Epoch 14/50\n",
      "77/77 [==============================] - 0s 1ms/step - loss: 0.6112 - accuracy: 0.6596\n",
      "Epoch 15/50\n",
      "77/77 [==============================] - 0s 1ms/step - loss: 0.6096 - accuracy: 0.6564\n",
      "Epoch 16/50\n",
      "77/77 [==============================] - 0s 1ms/step - loss: 0.6037 - accuracy: 0.6661\n",
      "Epoch 17/50\n",
      "77/77 [==============================] - 0s 1ms/step - loss: 0.6047 - accuracy: 0.6743\n",
      "Epoch 18/50\n",
      "77/77 [==============================] - 0s 1ms/step - loss: 0.6005 - accuracy: 0.6743\n",
      "Epoch 19/50\n",
      "77/77 [==============================] - 0s 1ms/step - loss: 0.6008 - accuracy: 0.6645\n",
      "Epoch 20/50\n",
      "77/77 [==============================] - 0s 981us/step - loss: 0.5959 - accuracy: 0.6743\n",
      "Epoch 21/50\n",
      "77/77 [==============================] - 0s 1ms/step - loss: 0.5980 - accuracy: 0.6759\n",
      "Epoch 22/50\n",
      "77/77 [==============================] - 0s 987us/step - loss: 0.5969 - accuracy: 0.6726\n",
      "Epoch 23/50\n",
      "77/77 [==============================] - 0s 944us/step - loss: 0.5949 - accuracy: 0.6645\n",
      "Epoch 24/50\n",
      "77/77 [==============================] - 0s 1ms/step - loss: 0.5949 - accuracy: 0.6694\n",
      "Epoch 25/50\n",
      "77/77 [==============================] - 0s 990us/step - loss: 0.5980 - accuracy: 0.6661\n",
      "Epoch 26/50\n",
      "77/77 [==============================] - 0s 997us/step - loss: 0.5942 - accuracy: 0.6710\n",
      "Epoch 27/50\n",
      "77/77 [==============================] - 0s 1ms/step - loss: 0.5914 - accuracy: 0.6743\n",
      "Epoch 28/50\n",
      "77/77 [==============================] - 0s 1ms/step - loss: 0.5910 - accuracy: 0.6694\n",
      "Epoch 29/50\n",
      "77/77 [==============================] - 0s 1ms/step - loss: 0.5909 - accuracy: 0.6694\n",
      "Epoch 30/50\n",
      "77/77 [==============================] - 0s 1ms/step - loss: 0.5923 - accuracy: 0.6678\n",
      "Epoch 31/50\n",
      "77/77 [==============================] - 0s 994us/step - loss: 0.5875 - accuracy: 0.6726\n",
      "Epoch 32/50\n",
      "77/77 [==============================] - 0s 1ms/step - loss: 0.5861 - accuracy: 0.6694\n",
      "Epoch 33/50\n",
      "77/77 [==============================] - 0s 931us/step - loss: 0.5851 - accuracy: 0.6743\n",
      "Epoch 34/50\n",
      "77/77 [==============================] - 0s 949us/step - loss: 0.5920 - accuracy: 0.6743\n",
      "Epoch 35/50\n",
      "77/77 [==============================] - 0s 1ms/step - loss: 0.5920 - accuracy: 0.6710\n",
      "Epoch 36/50\n",
      "77/77 [==============================] - 0s 1ms/step - loss: 0.5863 - accuracy: 0.6808\n",
      "Epoch 37/50\n",
      "77/77 [==============================] - 0s 1ms/step - loss: 0.5850 - accuracy: 0.6792\n",
      "Epoch 38/50\n",
      "77/77 [==============================] - 0s 1ms/step - loss: 0.5841 - accuracy: 0.6726\n",
      "Epoch 39/50\n",
      "77/77 [==============================] - 0s 1ms/step - loss: 0.5847 - accuracy: 0.6775\n",
      "Epoch 40/50\n",
      "77/77 [==============================] - 0s 1ms/step - loss: 0.5832 - accuracy: 0.6808\n",
      "Epoch 41/50\n",
      "77/77 [==============================] - 0s 1ms/step - loss: 0.5833 - accuracy: 0.6808\n",
      "Epoch 42/50\n",
      "77/77 [==============================] - 0s 1ms/step - loss: 0.5823 - accuracy: 0.6759\n",
      "Epoch 43/50\n",
      "77/77 [==============================] - 0s 979us/step - loss: 0.5827 - accuracy: 0.6645\n",
      "Epoch 44/50\n",
      "77/77 [==============================] - 0s 1ms/step - loss: 0.5826 - accuracy: 0.6743\n",
      "Epoch 45/50\n",
      "77/77 [==============================] - 0s 991us/step - loss: 0.5861 - accuracy: 0.6678\n",
      "Epoch 46/50\n",
      "77/77 [==============================] - 0s 1ms/step - loss: 0.5809 - accuracy: 0.6726\n",
      "Epoch 47/50\n",
      "77/77 [==============================] - 0s 1ms/step - loss: 0.5827 - accuracy: 0.6743\n",
      "Epoch 48/50\n",
      "77/77 [==============================] - 0s 1ms/step - loss: 0.5819 - accuracy: 0.6645\n",
      "Epoch 49/50\n",
      "77/77 [==============================] - 0s 1ms/step - loss: 0.5809 - accuracy: 0.6743\n",
      "Epoch 50/50\n",
      "77/77 [==============================] - 0s 1ms/step - loss: 0.5802 - accuracy: 0.6645\n"
     ]
    },
    {
     "data": {
      "text/plain": [
       "<keras.src.callbacks.History at 0x7fb5d01e6d90>"
      ]
     },
     "execution_count": 17,
     "metadata": {},
     "output_type": "execute_result"
    }
   ],
   "source": [
    "# define the keras sequential model\n",
    "model = Sequential()\n",
    "\n",
    "model.add(Dense(12, input_dim=8, activation='sigmoid')) # input layer + 1st hidden layer\n",
    "# model.add(Dense(8, activation='relu')) # 2nd hidden layer\n",
    "model.add(Dense(6, activation='relu')) # 3rd hidden layer\n",
    "model.add(Dense(1, activation='sigmoid')) # output layer\n",
    "\n",
    "model.compile(loss='binary_crossentropy', optimizer='adam', metrics=['accuracy'])\n",
    "model.fit(X_train, y_train, epochs=50, batch_size=8)\n"
   ]
  },
  {
   "cell_type": "code",
   "execution_count": 18,
   "metadata": {
    "colab": {
     "base_uri": "https://localhost:8080/",
     "height": 496
    },
    "executionInfo": {
     "elapsed": 592,
     "status": "ok",
     "timestamp": 1685849526517,
     "user": {
      "displayName": "Zaky Syihan",
      "userId": "05654158214121247060"
     },
     "user_tz": -420
    },
    "id": "CpqK9UYSWZUp",
    "outputId": "e70aa4c5-8e73-4f47-99d6-609e1aaa59bd"
   },
   "outputs": [
    {
     "data": {
      "image/png": "[encoded data removed]",
      "text/plain": [
       "<Figure size 800x500 with 1 Axes>"
      ]
     },
     "metadata": {},
     "output_type": "display_data"
    }
   ],
   "source": [
    "plt.figure(figsize=[8,5])\n",
    "plt.plot(model.history.history['accuracy'], 'r')\n",
    "plt.legend(['Training Acc'])\n",
    "plt.xlabel('Epochs', fontsize=16)\n",
    "plt.ylabel('Accuracy', fontsize=16)\n",
    "plt.title('Accuracy Curves', fontsize=16)\n",
    "\n",
    "plt.show()"
   ]
  },
  {
   "cell_type": "markdown",
   "metadata": {
    "id": "k82hK9SEWKd9"
   },
   "source": [
    "### batchsize = 2"
   ]
  },
  {
   "cell_type": "code",
   "execution_count": 19,
   "metadata": {
    "colab": {
     "base_uri": "https://localhost:8080/"
    },
    "executionInfo": {
     "elapsed": 36375,
     "status": "ok",
     "timestamp": 1685849562885,
     "user": {
      "displayName": "Zaky Syihan",
      "userId": "05654158214121247060"
     },
     "user_tz": -420
    },
    "id": "_EihQ6TOWEAm",
    "outputId": "f57029e1-57ce-4fe5-b3e6-243043adc3af"
   },
   "outputs": [
    {
     "name": "stdout",
     "output_type": "stream",
     "text": [
      "Epoch 1/50\n",
      "307/307 [==============================] - 1s 1ms/step - loss: 1.5468 - accuracy: 0.6059\n",
      "Epoch 2/50\n",
      "307/307 [==============================] - 0s 961us/step - loss: 0.6641 - accuracy: 0.6612\n",
      "Epoch 3/50\n",
      "307/307 [==============================] - 0s 973us/step - loss: 0.6461 - accuracy: 0.6678\n",
      "Epoch 4/50\n",
      "307/307 [==============================] - 0s 977us/step - loss: 0.6404 - accuracy: 0.6629\n",
      "Epoch 5/50\n",
      "307/307 [==============================] - 0s 999us/step - loss: 0.6357 - accuracy: 0.6661\n",
      "Epoch 6/50\n",
      "307/307 [==============================] - 0s 951us/step - loss: 0.6310 - accuracy: 0.6596\n",
      "Epoch 7/50\n",
      "307/307 [==============================] - 0s 927us/step - loss: 0.6296 - accuracy: 0.6596\n",
      "Epoch 8/50\n",
      "307/307 [==============================] - 0s 987us/step - loss: 0.6294 - accuracy: 0.6596\n",
      "Epoch 9/50\n",
      "307/307 [==============================] - 0s 946us/step - loss: 0.6243 - accuracy: 0.6596\n",
      "Epoch 10/50\n",
      "307/307 [==============================] - 0s 988us/step - loss: 0.6233 - accuracy: 0.6596\n",
      "Epoch 11/50\n",
      "307/307 [==============================] - 0s 951us/step - loss: 0.6211 - accuracy: 0.6596\n",
      "Epoch 12/50\n",
      "307/307 [==============================] - 0s 952us/step - loss: 0.6216 - accuracy: 0.6596\n",
      "Epoch 13/50\n",
      "307/307 [==============================] - 0s 953us/step - loss: 0.6197 - accuracy: 0.6596\n",
      "Epoch 14/50\n",
      "307/307 [==============================] - 0s 1ms/step - loss: 0.6177 - accuracy: 0.6596\n",
      "Epoch 15/50\n",
      "307/307 [==============================] - 0s 1ms/step - loss: 0.6169 - accuracy: 0.6596\n",
      "Epoch 16/50\n",
      "307/307 [==============================] - 0s 1ms/step - loss: 0.6167 - accuracy: 0.6596\n",
      "Epoch 17/50\n",
      "307/307 [==============================] - 0s 1ms/step - loss: 0.6144 - accuracy: 0.6596\n",
      "Epoch 18/50\n",
      "307/307 [==============================] - 0s 931us/step - loss: 0.6118 - accuracy: 0.6596\n",
      "Epoch 19/50\n",
      "307/307 [==============================] - 0s 937us/step - loss: 0.6116 - accuracy: 0.6596\n",
      "Epoch 20/50\n",
      "307/307 [==============================] - 0s 985us/step - loss: 0.6071 - accuracy: 0.6596\n",
      "Epoch 21/50\n",
      "307/307 [==============================] - 0s 941us/step - loss: 0.6086 - accuracy: 0.6596\n",
      "Epoch 22/50\n",
      "307/307 [==============================] - 0s 1ms/step - loss: 0.6142 - accuracy: 0.6596\n",
      "Epoch 23/50\n",
      "307/307 [==============================] - 0s 1ms/step - loss: 0.6038 - accuracy: 0.6596\n",
      "Epoch 24/50\n",
      "307/307 [==============================] - 0s 983us/step - loss: 0.6005 - accuracy: 0.6596\n",
      "Epoch 25/50\n",
      "307/307 [==============================] - 0s 929us/step - loss: 0.6030 - accuracy: 0.6596\n",
      "Epoch 26/50\n",
      "307/307 [==============================] - 0s 1ms/step - loss: 0.6028 - accuracy: 0.6596\n",
      "Epoch 27/50\n",
      "307/307 [==============================] - 0s 1ms/step - loss: 0.5995 - accuracy: 0.6596\n",
      "Epoch 28/50\n",
      "307/307 [==============================] - 0s 1ms/step - loss: 0.5987 - accuracy: 0.6596\n",
      "Epoch 29/50\n",
      "307/307 [==============================] - 0s 980us/step - loss: 0.5998 - accuracy: 0.6596\n",
      "Epoch 30/50\n",
      "307/307 [==============================] - 0s 984us/step - loss: 0.6034 - accuracy: 0.6596\n",
      "Epoch 31/50\n",
      "307/307 [==============================] - 0s 971us/step - loss: 0.5977 - accuracy: 0.6596\n",
      "Epoch 32/50\n",
      "307/307 [==============================] - 0s 976us/step - loss: 0.5972 - accuracy: 0.6596\n",
      "Epoch 33/50\n",
      "307/307 [==============================] - 0s 1ms/step - loss: 0.6008 - accuracy: 0.6596\n",
      "Epoch 34/50\n",
      "307/307 [==============================] - 0s 957us/step - loss: 0.5954 - accuracy: 0.6596\n",
      "Epoch 35/50\n",
      "307/307 [==============================] - 0s 928us/step - loss: 0.5917 - accuracy: 0.6661\n",
      "Epoch 36/50\n",
      "307/307 [==============================] - 0s 951us/step - loss: 0.5973 - accuracy: 0.6612\n",
      "Epoch 37/50\n",
      "307/307 [==============================] - 0s 933us/step - loss: 0.5947 - accuracy: 0.6596\n",
      "Epoch 38/50\n",
      "307/307 [==============================] - 0s 949us/step - loss: 0.5944 - accuracy: 0.6629\n",
      "Epoch 39/50\n",
      "307/307 [==============================] - 0s 993us/step - loss: 0.5890 - accuracy: 0.6612\n",
      "Epoch 40/50\n",
      "307/307 [==============================] - 0s 975us/step - loss: 0.6021 - accuracy: 0.6564\n",
      "Epoch 41/50\n",
      "307/307 [==============================] - 0s 935us/step - loss: 0.5956 - accuracy: 0.6612\n",
      "Epoch 42/50\n",
      "307/307 [==============================] - 0s 939us/step - loss: 0.5865 - accuracy: 0.6629\n",
      "Epoch 43/50\n",
      "307/307 [==============================] - 0s 952us/step - loss: 0.5888 - accuracy: 0.6694\n",
      "Epoch 44/50\n",
      "307/307 [==============================] - 0s 916us/step - loss: 0.5885 - accuracy: 0.6612\n",
      "Epoch 45/50\n",
      "307/307 [==============================] - 0s 989us/step - loss: 0.5913 - accuracy: 0.6710\n",
      "Epoch 46/50\n",
      "307/307 [==============================] - 0s 960us/step - loss: 0.5855 - accuracy: 0.6710\n",
      "Epoch 47/50\n",
      "307/307 [==============================] - 0s 950us/step - loss: 0.5835 - accuracy: 0.6612\n",
      "Epoch 48/50\n",
      "307/307 [==============================] - 0s 973us/step - loss: 0.5903 - accuracy: 0.6645\n",
      "Epoch 49/50\n",
      "307/307 [==============================] - 0s 935us/step - loss: 0.5868 - accuracy: 0.6661\n",
      "Epoch 50/50\n",
      "307/307 [==============================] - 0s 962us/step - loss: 0.5831 - accuracy: 0.6694\n"
     ]
    },
    {
     "data": {
      "text/plain": [
       "<keras.src.callbacks.History at 0x7fb5c8486c50>"
      ]
     },
     "execution_count": 19,
     "metadata": {},
     "output_type": "execute_result"
    }
   ],
   "source": [
    "# define the keras sequential model\n",
    "model = Sequential()\n",
    "\n",
    "model.add(Dense(12, input_dim=8, activation='relu')) # input layer + 1st hidden layer\n",
    "# model.add(Dense(8, activation='relu')) # 2nd hidden layer\n",
    "model.add(Dense(6, activation='relu')) # 3rd hidden layer\n",
    "model.add(Dense(1, activation='sigmoid')) # output layer\n",
    "\n",
    "model.compile(loss='binary_crossentropy', optimizer='adam', metrics=['accuracy'])\n",
    "model.fit(X_train, y_train, epochs=50, batch_size=2)\n"
   ]
  },
  {
   "cell_type": "code",
   "execution_count": 20,
   "metadata": {
    "colab": {
     "base_uri": "https://localhost:8080/",
     "height": 496
    },
    "executionInfo": {
     "elapsed": 673,
     "status": "ok",
     "timestamp": 1685849563555,
     "user": {
      "displayName": "Zaky Syihan",
      "userId": "05654158214121247060"
     },
     "user_tz": -420
    },
    "id": "Q7wP-IA2Wo4N",
    "outputId": "d2e8eb4c-553f-459b-9d8e-6dfdb6375a77"
   },
   "outputs": [
    {
     "data": {
      "image/png": "[encoded data removed]",
      "text/plain": [
       "<Figure size 800x500 with 1 Axes>"
      ]
     },
     "metadata": {},
     "output_type": "display_data"
    }
   ],
   "source": [
    "plt.figure(figsize=[8,5])\n",
    "plt.plot(model.history.history['accuracy'], 'r')\n",
    "plt.legend(['Training Acc'])\n",
    "plt.xlabel('Epochs', fontsize=16)\n",
    "plt.ylabel('Accuracy', fontsize=16)\n",
    "plt.title('Accuracy Curves', fontsize=16)\n",
    "\n",
    "plt.show()"
   ]
  },
  {
   "cell_type": "code",
   "execution_count": null,
   "metadata": {
    "id": "F8Ej_-x3WvOV"
   },
   "outputs": [],
   "source": []
  },
  {
   "cell_type": "markdown",
   "metadata": {
    "id": "JgVMQDjzWFGg"
   },
   "source": [
    "### batchsize = 8, act_layer_1 = sigmoid\n",
    "\n"
   ]
  },
  {
   "cell_type": "code",
   "execution_count": 21,
   "metadata": {
    "colab": {
     "base_uri": "https://localhost:8080/"
    },
    "executionInfo": {
     "elapsed": 9226,
     "status": "ok",
     "timestamp": 1685849572774,
     "user": {
      "displayName": "Zaky Syihan",
      "userId": "05654158214121247060"
     },
     "user_tz": -420
    },
    "id": "OraQkMhZa0vP",
    "outputId": "d51cac30-b061-47bd-a120-320992b9ba0e"
   },
   "outputs": [
    {
     "name": "stdout",
     "output_type": "stream",
     "text": [
      "Epoch 1/50\n",
      "77/77 [==============================] - 1s 1ms/step - loss: 0.8908 - accuracy: 0.3632\n",
      "Epoch 2/50\n",
      "77/77 [==============================] - 0s 1ms/step - loss: 0.6856 - accuracy: 0.5619\n",
      "Epoch 3/50\n",
      "77/77 [==============================] - 0s 1ms/step - loss: 0.6429 - accuracy: 0.6352\n",
      "Epoch 4/50\n",
      "77/77 [==============================] - 0s 1ms/step - loss: 0.6313 - accuracy: 0.6498\n",
      "Epoch 5/50\n",
      "77/77 [==============================] - 0s 984us/step - loss: 0.6258 - accuracy: 0.6547\n",
      "Epoch 6/50\n",
      "77/77 [==============================] - 0s 1ms/step - loss: 0.6216 - accuracy: 0.6596\n",
      "Epoch 7/50\n",
      "77/77 [==============================] - 0s 1ms/step - loss: 0.6169 - accuracy: 0.6612\n",
      "Epoch 8/50\n",
      "77/77 [==============================] - 0s 993us/step - loss: 0.6121 - accuracy: 0.6612\n",
      "Epoch 9/50\n",
      "77/77 [==============================] - 0s 1ms/step - loss: 0.6109 - accuracy: 0.6629\n",
      "Epoch 10/50\n",
      "77/77 [==============================] - 0s 1ms/step - loss: 0.6083 - accuracy: 0.6678\n",
      "Epoch 11/50\n",
      "77/77 [==============================] - 0s 1ms/step - loss: 0.6083 - accuracy: 0.6678\n",
      "Epoch 12/50\n",
      "77/77 [==============================] - 0s 1ms/step - loss: 0.6061 - accuracy: 0.6743\n",
      "Epoch 13/50\n",
      "77/77 [==============================] - 0s 945us/step - loss: 0.5988 - accuracy: 0.6743\n",
      "Epoch 14/50\n",
      "77/77 [==============================] - 0s 959us/step - loss: 0.5979 - accuracy: 0.6678\n",
      "Epoch 15/50\n",
      "77/77 [==============================] - 0s 1ms/step - loss: 0.5967 - accuracy: 0.6678\n",
      "Epoch 16/50\n",
      "77/77 [==============================] - 0s 1ms/step - loss: 0.5947 - accuracy: 0.6678\n",
      "Epoch 17/50\n",
      "77/77 [==============================] - 0s 1ms/step - loss: 0.5940 - accuracy: 0.6678\n",
      "Epoch 18/50\n",
      "77/77 [==============================] - 0s 966us/step - loss: 0.5914 - accuracy: 0.6743\n",
      "Epoch 19/50\n",
      "77/77 [==============================] - 0s 1ms/step - loss: 0.5910 - accuracy: 0.6726\n",
      "Epoch 20/50\n",
      "77/77 [==============================] - 0s 1ms/step - loss: 0.5909 - accuracy: 0.6726\n",
      "Epoch 21/50\n",
      "77/77 [==============================] - 0s 1ms/step - loss: 0.5875 - accuracy: 0.6726\n",
      "Epoch 22/50\n",
      "77/77 [==============================] - 0s 965us/step - loss: 0.5878 - accuracy: 0.6726\n",
      "Epoch 23/50\n",
      "77/77 [==============================] - 0s 983us/step - loss: 0.5879 - accuracy: 0.6759\n",
      "Epoch 24/50\n",
      "77/77 [==============================] - 0s 959us/step - loss: 0.5867 - accuracy: 0.6775\n",
      "Epoch 25/50\n",
      "77/77 [==============================] - 0s 1ms/step - loss: 0.5837 - accuracy: 0.6726\n",
      "Epoch 26/50\n",
      "77/77 [==============================] - 0s 1ms/step - loss: 0.5859 - accuracy: 0.6710\n",
      "Epoch 27/50\n",
      "77/77 [==============================] - 0s 1ms/step - loss: 0.5804 - accuracy: 0.6726\n",
      "Epoch 28/50\n",
      "77/77 [==============================] - 0s 1ms/step - loss: 0.5815 - accuracy: 0.6743\n",
      "Epoch 29/50\n",
      "77/77 [==============================] - 0s 1ms/step - loss: 0.5819 - accuracy: 0.6775\n",
      "Epoch 30/50\n",
      "77/77 [==============================] - 0s 1ms/step - loss: 0.5808 - accuracy: 0.6710\n",
      "Epoch 31/50\n",
      "77/77 [==============================] - 0s 1ms/step - loss: 0.5786 - accuracy: 0.6759\n",
      "Epoch 32/50\n",
      "77/77 [==============================] - 0s 1ms/step - loss: 0.5801 - accuracy: 0.6726\n",
      "Epoch 33/50\n",
      "77/77 [==============================] - 0s 989us/step - loss: 0.5777 - accuracy: 0.6726\n",
      "Epoch 34/50\n",
      "77/77 [==============================] - 0s 989us/step - loss: 0.5760 - accuracy: 0.6743\n",
      "Epoch 35/50\n",
      "77/77 [==============================] - 0s 986us/step - loss: 0.5761 - accuracy: 0.6808\n",
      "Epoch 36/50\n",
      "77/77 [==============================] - 0s 958us/step - loss: 0.5767 - accuracy: 0.6808\n",
      "Epoch 37/50\n",
      "77/77 [==============================] - 0s 993us/step - loss: 0.5769 - accuracy: 0.6840\n",
      "Epoch 38/50\n",
      "77/77 [==============================] - 0s 997us/step - loss: 0.5752 - accuracy: 0.6792\n",
      "Epoch 39/50\n",
      "77/77 [==============================] - 0s 996us/step - loss: 0.5756 - accuracy: 0.6857\n",
      "Epoch 40/50\n",
      "77/77 [==============================] - 0s 988us/step - loss: 0.5735 - accuracy: 0.6824\n",
      "Epoch 41/50\n",
      "77/77 [==============================] - 0s 979us/step - loss: 0.5743 - accuracy: 0.6792\n",
      "Epoch 42/50\n",
      "77/77 [==============================] - 0s 920us/step - loss: 0.5745 - accuracy: 0.6743\n",
      "Epoch 43/50\n",
      "77/77 [==============================] - 0s 930us/step - loss: 0.5734 - accuracy: 0.6824\n",
      "Epoch 44/50\n",
      "77/77 [==============================] - 0s 1ms/step - loss: 0.5721 - accuracy: 0.6743\n",
      "Epoch 45/50\n",
      "77/77 [==============================] - 0s 1ms/step - loss: 0.5725 - accuracy: 0.6857\n",
      "Epoch 46/50\n",
      "77/77 [==============================] - 0s 1ms/step - loss: 0.5707 - accuracy: 0.6922\n",
      "Epoch 47/50\n",
      "77/77 [==============================] - 0s 1ms/step - loss: 0.5721 - accuracy: 0.6840\n",
      "Epoch 48/50\n",
      "77/77 [==============================] - 0s 1ms/step - loss: 0.5709 - accuracy: 0.6873\n",
      "Epoch 49/50\n",
      "77/77 [==============================] - 0s 1ms/step - loss: 0.5690 - accuracy: 0.6792\n",
      "Epoch 50/50\n",
      "77/77 [==============================] - 0s 974us/step - loss: 0.5722 - accuracy: 0.6824\n"
     ]
    },
    {
     "data": {
      "text/plain": [
       "<keras.src.callbacks.History at 0x7fb59478ec50>"
      ]
     },
     "execution_count": 21,
     "metadata": {},
     "output_type": "execute_result"
    }
   ],
   "source": [
    "# define the keras sequential model\n",
    "model = Sequential()\n",
    "\n",
    "model.add(Dense(12, input_dim=8, activation='sigmoid')) # input layer + 1st hidden layer\n",
    "# model.add(Dense(8, activation='relu')) # 2nd hidden layer\n",
    "model.add(Dense(6, activation='relu')) # 3rd hidden layer\n",
    "model.add(Dense(1, activation='sigmoid')) # output layer\n",
    "\n",
    "model.compile(loss='binary_crossentropy', optimizer='adam', metrics=['accuracy'])\n",
    "model.fit(X_train, y_train, epochs=50, batch_size=8)\n"
   ]
  },
  {
   "cell_type": "code",
   "execution_count": 22,
   "metadata": {
    "colab": {
     "base_uri": "https://localhost:8080/",
     "height": 496
    },
    "executionInfo": {
     "elapsed": 9,
     "status": "ok",
     "timestamp": 1685849572775,
     "user": {
      "displayName": "Zaky Syihan",
      "userId": "05654158214121247060"
     },
     "user_tz": -420
    },
    "id": "4ewVr5oAa3vG",
    "outputId": "1ff61f03-84f1-4940-a933-2baca80a3081"
   },
   "outputs": [
    {
     "data": {
      "image/png": "[encoded data removed]",
      "text/plain": [
       "<Figure size 800x500 with 1 Axes>"
      ]
     },
     "metadata": {},
     "output_type": "display_data"
    }
   ],
   "source": [
    "plt.figure(figsize=[8,5])\n",
    "plt.plot(model.history.history['accuracy'], 'r')\n",
    "plt.legend(['Training Acc'])\n",
    "plt.xlabel('Epochs', fontsize=16)\n",
    "plt.ylabel('Accuracy', fontsize=16)\n",
    "plt.title('Accuracy Curves', fontsize=16)\n",
    "\n",
    "plt.show()"
   ]
  }
 ],
 "metadata": {
  "colab": {
   "provenance": []
  },
  "kernelspec": {
   "display_name": "Python 3 (ipykernel)",
   "language": "python",
   "name": "python3"
  },
  "language_info": {
   "codemirror_mode": {
    "name": "ipython",
    "version": 3
   },
   "file_extension": ".py",
   "mimetype": "text/x-python",
   "name": "python",
   "nbconvert_exporter": "python",
   "pygments_lexer": "ipython3",
   "version": "3.11.6"
  }
 },
 "nbformat": 4,
 "nbformat_minor": 4
}
