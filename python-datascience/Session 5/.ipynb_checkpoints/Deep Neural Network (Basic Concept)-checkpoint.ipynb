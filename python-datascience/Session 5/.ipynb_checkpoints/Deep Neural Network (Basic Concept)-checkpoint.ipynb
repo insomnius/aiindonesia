{
 "cells": [
  {
   "cell_type": "code",
   "execution_count": 1,
   "metadata": {
    "id": "MNEQxQnCBJL1"
   },
   "outputs": [],
   "source": [
    "import numpy as np\n",
    "import pandas as pd\n",
    "import matplotlib.pyplot as plt\n",
    "import seaborn as sns\n",
    "\n",
    "from sklearn.model_selection import train_test_split\n",
    "\n",
    "from keras.models import Sequential \n",
    "from keras.layers import Dense"
   ]
  },
  {
   "cell_type": "code",
   "execution_count": 2,
   "metadata": {
    "colab": {
     "base_uri": "https://localhost:8080/"
    },
    "executionInfo": {
     "elapsed": 334,
     "status": "ok",
     "timestamp": 1685769975619,
     "user": {
      "displayName": "Zaky Syihan",
      "userId": "05654158214121247060"
     },
     "user_tz": -420
    },
    "id": "lD_TMxofBJL3",
    "outputId": "9bec5b6b-0a9f-49d9-f91b-392626497e2a"
   },
   "outputs": [],
   "source": [
    "# plt.style.use('seaborn')"
   ]
  },
  {
   "cell_type": "markdown",
   "metadata": {
    "id": "1m5CtdDSBJL3"
   },
   "source": [
    "## Load Datasets"
   ]
  },
  {
   "cell_type": "code",
   "execution_count": 3,
   "metadata": {
    "colab": {
     "base_uri": "https://localhost:8080/",
     "height": 206
    },
    "executionInfo": {
     "elapsed": 347,
     "status": "ok",
     "timestamp": 1685769980804,
     "user": {
      "displayName": "Zaky Syihan",
      "userId": "05654158214121247060"
     },
     "user_tz": -420
    },
    "id": "Mle-KzmOBJL4",
    "outputId": "8ffaab7e-bcb9-400b-d79c-8bec9c79f609"
   },
   "outputs": [
    {
     "data": {
      "text/html": [
       "<div>\n",
       "<style scoped>\n",
       "    .dataframe tbody tr th:only-of-type {\n",
       "        vertical-align: middle;\n",
       "    }\n",
       "\n",
       "    .dataframe tbody tr th {\n",
       "        vertical-align: top;\n",
       "    }\n",
       "\n",
       "    .dataframe thead th {\n",
       "        text-align: right;\n",
       "    }\n",
       "</style>\n",
       "<table border=\"1\" class=\"dataframe\">\n",
       "  <thead>\n",
       "    <tr style=\"text-align: right;\">\n",
       "      <th></th>\n",
       "      <th>preg_times</th>\n",
       "      <th>glucose</th>\n",
       "      <th>blood_press</th>\n",
       "      <th>skin_thickness</th>\n",
       "      <th>insulin</th>\n",
       "      <th>BMI</th>\n",
       "      <th>pedigree</th>\n",
       "      <th>age</th>\n",
       "      <th>class</th>\n",
       "    </tr>\n",
       "  </thead>\n",
       "  <tbody>\n",
       "    <tr>\n",
       "      <th>0</th>\n",
       "      <td>6</td>\n",
       "      <td>148</td>\n",
       "      <td>72</td>\n",
       "      <td>35</td>\n",
       "      <td>0</td>\n",
       "      <td>33.6</td>\n",
       "      <td>0.627</td>\n",
       "      <td>50</td>\n",
       "      <td>1</td>\n",
       "    </tr>\n",
       "    <tr>\n",
       "      <th>1</th>\n",
       "      <td>1</td>\n",
       "      <td>85</td>\n",
       "      <td>66</td>\n",
       "      <td>29</td>\n",
       "      <td>0</td>\n",
       "      <td>26.6</td>\n",
       "      <td>0.351</td>\n",
       "      <td>31</td>\n",
       "      <td>0</td>\n",
       "    </tr>\n",
       "    <tr>\n",
       "      <th>2</th>\n",
       "      <td>8</td>\n",
       "      <td>183</td>\n",
       "      <td>64</td>\n",
       "      <td>0</td>\n",
       "      <td>0</td>\n",
       "      <td>23.3</td>\n",
       "      <td>0.672</td>\n",
       "      <td>32</td>\n",
       "      <td>1</td>\n",
       "    </tr>\n",
       "    <tr>\n",
       "      <th>3</th>\n",
       "      <td>1</td>\n",
       "      <td>89</td>\n",
       "      <td>66</td>\n",
       "      <td>23</td>\n",
       "      <td>94</td>\n",
       "      <td>28.1</td>\n",
       "      <td>0.167</td>\n",
       "      <td>21</td>\n",
       "      <td>0</td>\n",
       "    </tr>\n",
       "    <tr>\n",
       "      <th>4</th>\n",
       "      <td>0</td>\n",
       "      <td>137</td>\n",
       "      <td>40</td>\n",
       "      <td>35</td>\n",
       "      <td>168</td>\n",
       "      <td>43.1</td>\n",
       "      <td>2.288</td>\n",
       "      <td>33</td>\n",
       "      <td>1</td>\n",
       "    </tr>\n",
       "  </tbody>\n",
       "</table>\n",
       "</div>"
      ],
      "text/plain": [
       "   preg_times  glucose  blood_press  skin_thickness  insulin   BMI  pedigree  \\\n",
       "0           6      148           72              35        0  33.6     0.627   \n",
       "1           1       85           66              29        0  26.6     0.351   \n",
       "2           8      183           64               0        0  23.3     0.672   \n",
       "3           1       89           66              23       94  28.1     0.167   \n",
       "4           0      137           40              35      168  43.1     2.288   \n",
       "\n",
       "   age  class  \n",
       "0   50      1  \n",
       "1   31      0  \n",
       "2   32      1  \n",
       "3   21      0  \n",
       "4   33      1  "
      ]
     },
     "execution_count": 3,
     "metadata": {},
     "output_type": "execute_result"
    }
   ],
   "source": [
    "df_diabetes = pd.read_csv('./pima_diabetes.csv', names=['preg_times', 'glucose', 'blood_press', 'skin_thickness', 'insulin', 'BMI', 'pedigree', 'age', 'class'])\n",
    "df_diabetes.head()"
   ]
  },
  {
   "cell_type": "code",
   "execution_count": 4,
   "metadata": {
    "colab": {
     "base_uri": "https://localhost:8080/"
    },
    "executionInfo": {
     "elapsed": 359,
     "status": "ok",
     "timestamp": 1685770045765,
     "user": {
      "displayName": "Zaky Syihan",
      "userId": "05654158214121247060"
     },
     "user_tz": -420
    },
    "id": "cD_AR1M3BJL5",
    "outputId": "2d158e1b-ac6d-4a9b-b725-04860e9aeea0"
   },
   "outputs": [
    {
     "name": "stdout",
     "output_type": "stream",
     "text": [
      "Total data: 768\n",
      "Total features: 9\n"
     ]
    }
   ],
   "source": [
    "print('Total data:', df_diabetes.shape[0])\n",
    "print('Total features:', df_diabetes.shape[1])"
   ]
  },
  {
   "cell_type": "code",
   "execution_count": 5,
   "metadata": {
    "colab": {
     "base_uri": "https://localhost:8080/",
     "height": 711
    },
    "executionInfo": {
     "elapsed": 1144,
     "status": "ok",
     "timestamp": 1685770048800,
     "user": {
      "displayName": "Zaky Syihan",
      "userId": "05654158214121247060"
     },
     "user_tz": -420
    },
    "id": "V4jIKBe1BJL6",
    "outputId": "d7a60fa4-da01-414c-b7c0-7908c4f2572b"
   },
   "outputs": [
    {
     "name": "stderr",
     "output_type": "stream",
     "text": [
      "/tmp/ipykernel_270/4210084904.py:1: UserWarning: \n",
      "\n",
      "`distplot` is a deprecated function and will be removed in seaborn v0.14.0.\n",
      "\n",
      "Please adapt your code to use either `displot` (a figure-level function with\n",
      "similar flexibility) or `histplot` (an axes-level function for histograms).\n",
      "\n",
      "For a guide to updating your code to use the new functions, please see\n",
      "https://gist.github.com/mwaskom/de44147ed2974457ad6372750bbe5751\n",
      "\n",
      "  sns.distplot(df_diabetes['age'])\n"
     ]
    },
    {
     "data": {
      "text/plain": [
       "<Axes: xlabel='age', ylabel='Density'>"
      ]
     },
     "execution_count": 5,
     "metadata": {},
     "output_type": "execute_result"
    },
    {
     "data": {
      "image/png": "[encoded data removed]",
      "text/plain": [
       "<Figure size 640x480 with 1 Axes>"
      ]
     },
     "metadata": {},
     "output_type": "display_data"
    }
   ],
   "source": [
    "sns.distplot(df_diabetes['age'])"
   ]
  },
  {
   "cell_type": "code",
   "execution_count": 6,
   "metadata": {
    "colab": {
     "base_uri": "https://localhost:8080/",
     "height": 300
    },
    "executionInfo": {
     "elapsed": 338,
     "status": "ok",
     "timestamp": 1685770095134,
     "user": {
      "displayName": "Zaky Syihan",
      "userId": "05654158214121247060"
     },
     "user_tz": -420
    },
    "id": "o40C22LXBJL6",
    "outputId": "f0eeacb6-4d88-4a79-d6b9-b9f4fa417f8b"
   },
   "outputs": [
    {
     "data": {
      "text/html": [
       "<div>\n",
       "<style scoped>\n",
       "    .dataframe tbody tr th:only-of-type {\n",
       "        vertical-align: middle;\n",
       "    }\n",
       "\n",
       "    .dataframe tbody tr th {\n",
       "        vertical-align: top;\n",
       "    }\n",
       "\n",
       "    .dataframe thead th {\n",
       "        text-align: right;\n",
       "    }\n",
       "</style>\n",
       "<table border=\"1\" class=\"dataframe\">\n",
       "  <thead>\n",
       "    <tr style=\"text-align: right;\">\n",
       "      <th></th>\n",
       "      <th>preg_times</th>\n",
       "      <th>glucose</th>\n",
       "      <th>blood_press</th>\n",
       "      <th>skin_thickness</th>\n",
       "      <th>insulin</th>\n",
       "      <th>BMI</th>\n",
       "      <th>pedigree</th>\n",
       "      <th>age</th>\n",
       "      <th>class</th>\n",
       "    </tr>\n",
       "  </thead>\n",
       "  <tbody>\n",
       "    <tr>\n",
       "      <th>count</th>\n",
       "      <td>768.000000</td>\n",
       "      <td>768.000000</td>\n",
       "      <td>768.000000</td>\n",
       "      <td>768.000000</td>\n",
       "      <td>768.000000</td>\n",
       "      <td>768.000000</td>\n",
       "      <td>768.000000</td>\n",
       "      <td>768.000000</td>\n",
       "      <td>768.000000</td>\n",
       "    </tr>\n",
       "    <tr>\n",
       "      <th>mean</th>\n",
       "      <td>3.845052</td>\n",
       "      <td>120.894531</td>\n",
       "      <td>69.105469</td>\n",
       "      <td>20.536458</td>\n",
       "      <td>79.799479</td>\n",
       "      <td>31.992578</td>\n",
       "      <td>0.471876</td>\n",
       "      <td>33.240885</td>\n",
       "      <td>0.348958</td>\n",
       "    </tr>\n",
       "    <tr>\n",
       "      <th>std</th>\n",
       "      <td>3.369578</td>\n",
       "      <td>31.972618</td>\n",
       "      <td>19.355807</td>\n",
       "      <td>15.952218</td>\n",
       "      <td>115.244002</td>\n",
       "      <td>7.884160</td>\n",
       "      <td>0.331329</td>\n",
       "      <td>11.760232</td>\n",
       "      <td>0.476951</td>\n",
       "    </tr>\n",
       "    <tr>\n",
       "      <th>min</th>\n",
       "      <td>0.000000</td>\n",
       "      <td>0.000000</td>\n",
       "      <td>0.000000</td>\n",
       "      <td>0.000000</td>\n",
       "      <td>0.000000</td>\n",
       "      <td>0.000000</td>\n",
       "      <td>0.078000</td>\n",
       "      <td>21.000000</td>\n",
       "      <td>0.000000</td>\n",
       "    </tr>\n",
       "    <tr>\n",
       "      <th>25%</th>\n",
       "      <td>1.000000</td>\n",
       "      <td>99.000000</td>\n",
       "      <td>62.000000</td>\n",
       "      <td>0.000000</td>\n",
       "      <td>0.000000</td>\n",
       "      <td>27.300000</td>\n",
       "      <td>0.243750</td>\n",
       "      <td>24.000000</td>\n",
       "      <td>0.000000</td>\n",
       "    </tr>\n",
       "    <tr>\n",
       "      <th>50%</th>\n",
       "      <td>3.000000</td>\n",
       "      <td>117.000000</td>\n",
       "      <td>72.000000</td>\n",
       "      <td>23.000000</td>\n",
       "      <td>30.500000</td>\n",
       "      <td>32.000000</td>\n",
       "      <td>0.372500</td>\n",
       "      <td>29.000000</td>\n",
       "      <td>0.000000</td>\n",
       "    </tr>\n",
       "    <tr>\n",
       "      <th>75%</th>\n",
       "      <td>6.000000</td>\n",
       "      <td>140.250000</td>\n",
       "      <td>80.000000</td>\n",
       "      <td>32.000000</td>\n",
       "      <td>127.250000</td>\n",
       "      <td>36.600000</td>\n",
       "      <td>0.626250</td>\n",
       "      <td>41.000000</td>\n",
       "      <td>1.000000</td>\n",
       "    </tr>\n",
       "    <tr>\n",
       "      <th>max</th>\n",
       "      <td>17.000000</td>\n",
       "      <td>199.000000</td>\n",
       "      <td>122.000000</td>\n",
       "      <td>99.000000</td>\n",
       "      <td>846.000000</td>\n",
       "      <td>67.100000</td>\n",
       "      <td>2.420000</td>\n",
       "      <td>81.000000</td>\n",
       "      <td>1.000000</td>\n",
       "    </tr>\n",
       "  </tbody>\n",
       "</table>\n",
       "</div>"
      ],
      "text/plain": [
       "       preg_times     glucose  blood_press  skin_thickness     insulin  \\\n",
       "count  768.000000  768.000000   768.000000      768.000000  768.000000   \n",
       "mean     3.845052  120.894531    69.105469       20.536458   79.799479   \n",
       "std      3.369578   31.972618    19.355807       15.952218  115.244002   \n",
       "min      0.000000    0.000000     0.000000        0.000000    0.000000   \n",
       "25%      1.000000   99.000000    62.000000        0.000000    0.000000   \n",
       "50%      3.000000  117.000000    72.000000       23.000000   30.500000   \n",
       "75%      6.000000  140.250000    80.000000       32.000000  127.250000   \n",
       "max     17.000000  199.000000   122.000000       99.000000  846.000000   \n",
       "\n",
       "              BMI    pedigree         age       class  \n",
       "count  768.000000  768.000000  768.000000  768.000000  \n",
       "mean    31.992578    0.471876   33.240885    0.348958  \n",
       "std      7.884160    0.331329   11.760232    0.476951  \n",
       "min      0.000000    0.078000   21.000000    0.000000  \n",
       "25%     27.300000    0.243750   24.000000    0.000000  \n",
       "50%     32.000000    0.372500   29.000000    0.000000  \n",
       "75%     36.600000    0.626250   41.000000    1.000000  \n",
       "max     67.100000    2.420000   81.000000    1.000000  "
      ]
     },
     "execution_count": 6,
     "metadata": {},
     "output_type": "execute_result"
    }
   ],
   "source": [
    "df_diabetes.describe()"
   ]
  },
  {
   "cell_type": "markdown",
   "metadata": {
    "id": "Wf8X4uaRBJL6"
   },
   "source": [
    "## Split Datasets"
   ]
  },
  {
   "cell_type": "code",
   "execution_count": 7,
   "metadata": {
    "id": "ZTapUd0hBJL6"
   },
   "outputs": [],
   "source": [
    "features = df_diabetes.values[:,:8]"
   ]
  },
  {
   "cell_type": "code",
   "execution_count": 8,
   "metadata": {
    "id": "6CcRKcAWBJL6"
   },
   "outputs": [],
   "source": [
    "labels = df_diabetes.values[:,8:]"
   ]
  },
  {
   "cell_type": "code",
   "execution_count": 9,
   "metadata": {
    "id": "QYim7x_bBJL7"
   },
   "outputs": [],
   "source": [
    "X_train, X_test, y_train, y_test = train_test_split(features, labels, test_size=0.2, random_state=20)"
   ]
  },
  {
   "cell_type": "markdown",
   "metadata": {
    "id": "k_eh99NTBJL7"
   },
   "source": [
    "## Define Model"
   ]
  },
  {
   "cell_type": "code",
   "execution_count": 10,
   "metadata": {
    "id": "P6wwiKvgBJL7"
   },
   "outputs": [],
   "source": [
    "# define the keras sequential model\n",
    "model = Sequential()"
   ]
  },
  {
   "cell_type": "code",
   "execution_count": 11,
   "metadata": {
    "id": "xWoveHaZ2FoK"
   },
   "outputs": [],
   "source": [
    "# Artificial Neural Network / Multi-layer Perceptron / Fully Connected Neural Network\n",
    "\n",
    "# Convolutional Neural Network\n",
    "\n",
    "# Long-Short Term Memory Neural Network\n",
    "\n",
    "# Dll...\n"
   ]
  },
  {
   "cell_type": "code",
   "execution_count": 12,
   "metadata": {
    "id": "XrcQM-2SwgfY"
   },
   "outputs": [],
   "source": [
    "# relu = range(0,infinit)"
   ]
  },
  {
   "cell_type": "code",
   "execution_count": 13,
   "metadata": {
    "id": "KKnwmlV7BJL7"
   },
   "outputs": [],
   "source": [
    "model.add(Dense(12, input_dim=8, activation='relu')) # input layer + 1st hidden layer\n",
    "model.add(Dense(8, activation='relu')) # 2nd hidden layer\n",
    "model.add(Dense(6, activation='relu')) # 3rd hidden layer\n",
    "model.add(Dense(1, activation='sigmoid')) # output layer"
   ]
  },
  {
   "cell_type": "code",
   "execution_count": 14,
   "metadata": {
    "colab": {
     "base_uri": "https://localhost:8080/"
    },
    "executionInfo": {
     "elapsed": 509,
     "status": "ok",
     "timestamp": 1685771457757,
     "user": {
      "displayName": "Zaky Syihan",
      "userId": "05654158214121247060"
     },
     "user_tz": -420
    },
    "id": "HHctibMoBJL7",
    "outputId": "ffc341eb-757e-48d6-85c2-b3640fa85f47"
   },
   "outputs": [
    {
     "name": "stdout",
     "output_type": "stream",
     "text": [
      "Model: \"sequential\"\n",
      "_________________________________________________________________\n",
      " Layer (type)                Output Shape              Param #   \n",
      "=================================================================\n",
      " dense (Dense)               (None, 12)                108       \n",
      "                                                                 \n",
      " dense_1 (Dense)             (None, 8)                 104       \n",
      "                                                                 \n",
      " dense_2 (Dense)             (None, 6)                 54        \n",
      "                                                                 \n",
      " dense_3 (Dense)             (None, 1)                 7         \n",
      "                                                                 \n",
      "=================================================================\n",
      "Total params: 273 (1.07 KB)\n",
      "Trainable params: 273 (1.07 KB)\n",
      "Non-trainable params: 0 (0.00 Byte)\n",
      "_________________________________________________________________\n"
     ]
    }
   ],
   "source": [
    "model.summary()"
   ]
  },
  {
   "cell_type": "markdown",
   "metadata": {
    "id": "AVxRPm7MBJL8"
   },
   "source": [
    "## Compile Model"
   ]
  },
  {
   "cell_type": "code",
   "execution_count": 15,
   "metadata": {
    "id": "Hk4pfmmABJL8"
   },
   "outputs": [],
   "source": [
    "model.compile(loss='binary_crossentropy', optimizer='adam', metrics=['accuracy'])"
   ]
  },
  {
   "cell_type": "markdown",
   "metadata": {
    "id": "OA6vkrOTBJL8"
   },
   "source": [
    "## Train Model"
   ]
  },
  {
   "cell_type": "code",
   "execution_count": 16,
   "metadata": {
    "colab": {
     "base_uri": "https://localhost:8080/"
    },
    "executionInfo": {
     "elapsed": 47498,
     "status": "ok",
     "timestamp": 1685771532181,
     "user": {
      "displayName": "Zaky Syihan",
      "userId": "05654158214121247060"
     },
     "user_tz": -420
    },
    "id": "-hJa6Nm8BJL8",
    "outputId": "e1e167ac-e587-4c8c-936c-8478c6cc746f",
    "scrolled": true
   },
   "outputs": [
    {
     "name": "stdout",
     "output_type": "stream",
     "text": [
      "Epoch 1/250\n",
      "77/77 [==============================] - 0s 548us/step - loss: 1.1041 - accuracy: 0.6091\n",
      "Epoch 2/250\n",
      "77/77 [==============================] - 0s 510us/step - loss: 0.6770 - accuracy: 0.6515\n",
      "Epoch 3/250\n",
      "77/77 [==============================] - 0s 479us/step - loss: 0.6466 - accuracy: 0.6531\n",
      "Epoch 4/250\n",
      "77/77 [==============================] - 0s 485us/step - loss: 0.6614 - accuracy: 0.6531\n",
      "Epoch 5/250\n",
      "77/77 [==============================] - 0s 493us/step - loss: 0.6307 - accuracy: 0.6531\n",
      "Epoch 6/250\n",
      "77/77 [==============================] - 0s 480us/step - loss: 0.6319 - accuracy: 0.6547\n",
      "Epoch 7/250\n",
      "77/77 [==============================] - 0s 497us/step - loss: 0.6299 - accuracy: 0.6531\n",
      "Epoch 8/250\n",
      "77/77 [==============================] - 0s 510us/step - loss: 0.6258 - accuracy: 0.6531\n",
      "Epoch 9/250\n",
      "77/77 [==============================] - 0s 486us/step - loss: 0.6215 - accuracy: 0.6547\n",
      "Epoch 10/250\n",
      "77/77 [==============================] - 0s 474us/step - loss: 0.6267 - accuracy: 0.6482\n",
      "Epoch 11/250\n",
      "77/77 [==============================] - 0s 461us/step - loss: 0.6206 - accuracy: 0.6531\n",
      "Epoch 12/250\n",
      "77/77 [==============================] - 0s 500us/step - loss: 0.6204 - accuracy: 0.6531\n",
      "Epoch 13/250\n",
      "77/77 [==============================] - 0s 530us/step - loss: 0.6149 - accuracy: 0.6515\n",
      "Epoch 14/250\n",
      "77/77 [==============================] - 0s 492us/step - loss: 0.6240 - accuracy: 0.6515\n",
      "Epoch 15/250\n",
      "77/77 [==============================] - 0s 487us/step - loss: 0.6182 - accuracy: 0.6531\n",
      "Epoch 16/250\n",
      "77/77 [==============================] - 0s 519us/step - loss: 0.6145 - accuracy: 0.6547\n",
      "Epoch 17/250\n",
      "77/77 [==============================] - 0s 507us/step - loss: 0.6092 - accuracy: 0.6547\n",
      "Epoch 18/250\n",
      "77/77 [==============================] - 0s 493us/step - loss: 0.6112 - accuracy: 0.6547\n",
      "Epoch 19/250\n",
      "77/77 [==============================] - 0s 493us/step - loss: 0.6037 - accuracy: 0.6531\n",
      "Epoch 20/250\n",
      "77/77 [==============================] - 0s 494us/step - loss: 0.6052 - accuracy: 0.6547\n",
      "Epoch 21/250\n",
      "77/77 [==============================] - 0s 486us/step - loss: 0.6021 - accuracy: 0.6547\n",
      "Epoch 22/250\n",
      "77/77 [==============================] - 0s 486us/step - loss: 0.6134 - accuracy: 0.6547\n",
      "Epoch 23/250\n",
      "77/77 [==============================] - 0s 512us/step - loss: 0.6026 - accuracy: 0.6547\n",
      "Epoch 24/250\n",
      "77/77 [==============================] - 0s 519us/step - loss: 0.5958 - accuracy: 0.6580\n",
      "Epoch 25/250\n",
      "77/77 [==============================] - 0s 515us/step - loss: 0.6059 - accuracy: 0.6564\n",
      "Epoch 26/250\n",
      "77/77 [==============================] - 0s 513us/step - loss: 0.6015 - accuracy: 0.6564\n",
      "Epoch 27/250\n",
      "77/77 [==============================] - 0s 503us/step - loss: 0.6008 - accuracy: 0.6596\n",
      "Epoch 28/250\n",
      "77/77 [==============================] - 0s 510us/step - loss: 0.5999 - accuracy: 0.6564\n",
      "Epoch 29/250\n",
      "77/77 [==============================] - 0s 498us/step - loss: 0.5993 - accuracy: 0.6564\n",
      "Epoch 30/250\n",
      "77/77 [==============================] - 0s 485us/step - loss: 0.5952 - accuracy: 0.6547\n",
      "Epoch 31/250\n",
      "77/77 [==============================] - 0s 494us/step - loss: 0.5933 - accuracy: 0.6564\n",
      "Epoch 32/250\n",
      "77/77 [==============================] - 0s 484us/step - loss: 0.5970 - accuracy: 0.6564\n",
      "Epoch 33/250\n",
      "77/77 [==============================] - 0s 483us/step - loss: 0.5968 - accuracy: 0.6547\n",
      "Epoch 34/250\n",
      "77/77 [==============================] - 0s 499us/step - loss: 0.5893 - accuracy: 0.6612\n",
      "Epoch 35/250\n",
      "77/77 [==============================] - 0s 493us/step - loss: 0.6054 - accuracy: 0.6596\n",
      "Epoch 36/250\n",
      "77/77 [==============================] - 0s 511us/step - loss: 0.6070 - accuracy: 0.6564\n",
      "Epoch 37/250\n",
      "77/77 [==============================] - 0s 500us/step - loss: 0.5979 - accuracy: 0.6547\n",
      "Epoch 38/250\n",
      "77/77 [==============================] - 0s 503us/step - loss: 0.5932 - accuracy: 0.6547\n",
      "Epoch 39/250\n",
      "77/77 [==============================] - 0s 502us/step - loss: 0.6058 - accuracy: 0.6564\n",
      "Epoch 40/250\n",
      "77/77 [==============================] - 0s 494us/step - loss: 0.6024 - accuracy: 0.6564\n",
      "Epoch 41/250\n",
      "77/77 [==============================] - 0s 497us/step - loss: 0.5947 - accuracy: 0.6547\n",
      "Epoch 42/250\n",
      "77/77 [==============================] - 0s 496us/step - loss: 0.5998 - accuracy: 0.6564\n",
      "Epoch 43/250\n",
      "77/77 [==============================] - 0s 497us/step - loss: 0.5923 - accuracy: 0.6531\n",
      "Epoch 44/250\n",
      "77/77 [==============================] - 0s 509us/step - loss: 0.5980 - accuracy: 0.6531\n",
      "Epoch 45/250\n",
      "77/77 [==============================] - 0s 482us/step - loss: 0.5889 - accuracy: 0.6612\n",
      "Epoch 46/250\n",
      "77/77 [==============================] - 0s 490us/step - loss: 0.5878 - accuracy: 0.6596\n",
      "Epoch 47/250\n",
      "77/77 [==============================] - 0s 485us/step - loss: 0.5913 - accuracy: 0.6580\n",
      "Epoch 48/250\n",
      "77/77 [==============================] - 0s 488us/step - loss: 0.5906 - accuracy: 0.6596\n",
      "Epoch 49/250\n",
      "77/77 [==============================] - 0s 502us/step - loss: 0.5986 - accuracy: 0.6564\n",
      "Epoch 50/250\n",
      "77/77 [==============================] - 0s 483us/step - loss: 0.5974 - accuracy: 0.6596\n",
      "Epoch 51/250\n",
      "77/77 [==============================] - 0s 541us/step - loss: 0.5941 - accuracy: 0.6580\n",
      "Epoch 52/250\n",
      "77/77 [==============================] - 0s 504us/step - loss: 0.5969 - accuracy: 0.6596\n",
      "Epoch 53/250\n",
      "77/77 [==============================] - 0s 494us/step - loss: 0.5900 - accuracy: 0.6612\n",
      "Epoch 54/250\n",
      "77/77 [==============================] - 0s 511us/step - loss: 0.5934 - accuracy: 0.6645\n",
      "Epoch 55/250\n",
      "77/77 [==============================] - 0s 499us/step - loss: 0.5933 - accuracy: 0.6645\n",
      "Epoch 56/250\n",
      "77/77 [==============================] - 0s 476us/step - loss: 0.5849 - accuracy: 0.6612\n",
      "Epoch 57/250\n",
      "77/77 [==============================] - 0s 495us/step - loss: 0.5845 - accuracy: 0.6596\n",
      "Epoch 58/250\n",
      "77/77 [==============================] - 0s 512us/step - loss: 0.5836 - accuracy: 0.6678\n",
      "Epoch 59/250\n",
      "77/77 [==============================] - 0s 498us/step - loss: 0.5992 - accuracy: 0.6515\n",
      "Epoch 60/250\n",
      "77/77 [==============================] - 0s 496us/step - loss: 0.5884 - accuracy: 0.6596\n",
      "Epoch 61/250\n",
      "77/77 [==============================] - 0s 491us/step - loss: 0.5886 - accuracy: 0.6596\n",
      "Epoch 62/250\n",
      "77/77 [==============================] - 0s 507us/step - loss: 0.5850 - accuracy: 0.6629\n",
      "Epoch 63/250\n",
      "77/77 [==============================] - 0s 492us/step - loss: 0.5805 - accuracy: 0.6661\n",
      "Epoch 64/250\n",
      "77/77 [==============================] - 0s 493us/step - loss: 0.5867 - accuracy: 0.6596\n",
      "Epoch 65/250\n",
      "77/77 [==============================] - 0s 522us/step - loss: 0.5876 - accuracy: 0.6612\n",
      "Epoch 66/250\n",
      "77/77 [==============================] - 0s 509us/step - loss: 0.5842 - accuracy: 0.6645\n",
      "Epoch 67/250\n",
      "77/77 [==============================] - 0s 517us/step - loss: 0.5831 - accuracy: 0.6694\n",
      "Epoch 68/250\n",
      "77/77 [==============================] - 0s 510us/step - loss: 0.5826 - accuracy: 0.6661\n",
      "Epoch 69/250\n",
      "77/77 [==============================] - 0s 527us/step - loss: 0.5843 - accuracy: 0.6645\n",
      "Epoch 70/250\n",
      "77/77 [==============================] - 0s 525us/step - loss: 0.5833 - accuracy: 0.6661\n",
      "Epoch 71/250\n",
      "77/77 [==============================] - 0s 545us/step - loss: 0.5886 - accuracy: 0.6645\n",
      "Epoch 72/250\n",
      "77/77 [==============================] - 0s 548us/step - loss: 0.5831 - accuracy: 0.6661\n",
      "Epoch 73/250\n",
      "77/77 [==============================] - 0s 531us/step - loss: 0.5792 - accuracy: 0.6678\n",
      "Epoch 74/250\n",
      "77/77 [==============================] - 0s 542us/step - loss: 0.5819 - accuracy: 0.6661\n",
      "Epoch 75/250\n",
      "77/77 [==============================] - 0s 575us/step - loss: 0.5823 - accuracy: 0.6678\n",
      "Epoch 76/250\n",
      "77/77 [==============================] - 0s 615us/step - loss: 0.5803 - accuracy: 0.6629\n",
      "Epoch 77/250\n",
      "77/77 [==============================] - 0s 633us/step - loss: 0.5868 - accuracy: 0.6564\n",
      "Epoch 78/250\n",
      "77/77 [==============================] - 0s 531us/step - loss: 0.5811 - accuracy: 0.6661\n",
      "Epoch 79/250\n",
      "77/77 [==============================] - 0s 504us/step - loss: 0.5783 - accuracy: 0.6678\n",
      "Epoch 80/250\n",
      "77/77 [==============================] - 0s 531us/step - loss: 0.5794 - accuracy: 0.6661\n",
      "Epoch 81/250\n",
      "77/77 [==============================] - 0s 528us/step - loss: 0.5828 - accuracy: 0.6678\n",
      "Epoch 82/250\n",
      "77/77 [==============================] - 0s 534us/step - loss: 0.5778 - accuracy: 0.6661\n",
      "Epoch 83/250\n",
      "77/77 [==============================] - 0s 495us/step - loss: 0.5769 - accuracy: 0.6645\n",
      "Epoch 84/250\n",
      "77/77 [==============================] - 0s 517us/step - loss: 0.5790 - accuracy: 0.6645\n",
      "Epoch 85/250\n",
      "77/77 [==============================] - 0s 491us/step - loss: 0.5868 - accuracy: 0.6612\n",
      "Epoch 86/250\n",
      "77/77 [==============================] - 0s 500us/step - loss: 0.5758 - accuracy: 0.6694\n",
      "Epoch 87/250\n",
      "77/77 [==============================] - 0s 498us/step - loss: 0.5803 - accuracy: 0.6661\n",
      "Epoch 88/250\n",
      "77/77 [==============================] - 0s 484us/step - loss: 0.5789 - accuracy: 0.6612\n",
      "Epoch 89/250\n",
      "77/77 [==============================] - 0s 487us/step - loss: 0.5750 - accuracy: 0.6661\n",
      "Epoch 90/250\n",
      "77/77 [==============================] - 0s 476us/step - loss: 0.5851 - accuracy: 0.6678\n",
      "Epoch 91/250\n",
      "77/77 [==============================] - 0s 478us/step - loss: 0.5693 - accuracy: 0.6661\n",
      "Epoch 92/250\n",
      "77/77 [==============================] - 0s 489us/step - loss: 0.5764 - accuracy: 0.6661\n",
      "Epoch 93/250\n",
      "77/77 [==============================] - 0s 488us/step - loss: 0.5847 - accuracy: 0.6645\n",
      "Epoch 94/250\n",
      "77/77 [==============================] - 0s 490us/step - loss: 0.5885 - accuracy: 0.6678\n",
      "Epoch 95/250\n",
      "77/77 [==============================] - 0s 481us/step - loss: 0.5775 - accuracy: 0.6678\n",
      "Epoch 96/250\n",
      "77/77 [==============================] - 0s 489us/step - loss: 0.5787 - accuracy: 0.6678\n",
      "Epoch 97/250\n",
      "77/77 [==============================] - 0s 497us/step - loss: 0.5815 - accuracy: 0.6678\n",
      "Epoch 98/250\n",
      "77/77 [==============================] - 0s 501us/step - loss: 0.5868 - accuracy: 0.6547\n",
      "Epoch 99/250\n",
      "77/77 [==============================] - 0s 486us/step - loss: 0.5797 - accuracy: 0.6629\n",
      "Epoch 100/250\n",
      "77/77 [==============================] - 0s 501us/step - loss: 0.5751 - accuracy: 0.6645\n",
      "Epoch 101/250\n",
      "77/77 [==============================] - 0s 504us/step - loss: 0.5758 - accuracy: 0.6661\n",
      "Epoch 102/250\n",
      "77/77 [==============================] - 0s 517us/step - loss: 0.5724 - accuracy: 0.6678\n",
      "Epoch 103/250\n",
      "77/77 [==============================] - 0s 503us/step - loss: 0.5764 - accuracy: 0.6678\n",
      "Epoch 104/250\n",
      "77/77 [==============================] - 0s 500us/step - loss: 0.5720 - accuracy: 0.6694\n",
      "Epoch 105/250\n",
      "77/77 [==============================] - 0s 502us/step - loss: 0.5807 - accuracy: 0.6629\n",
      "Epoch 106/250\n",
      "77/77 [==============================] - 0s 496us/step - loss: 0.5716 - accuracy: 0.6661\n",
      "Epoch 107/250\n",
      "77/77 [==============================] - 0s 507us/step - loss: 0.5753 - accuracy: 0.6645\n",
      "Epoch 108/250\n",
      "77/77 [==============================] - 0s 488us/step - loss: 0.5655 - accuracy: 0.6661\n",
      "Epoch 109/250\n",
      "77/77 [==============================] - 0s 490us/step - loss: 0.5618 - accuracy: 0.6694\n",
      "Epoch 110/250\n",
      "77/77 [==============================] - 0s 501us/step - loss: 0.5681 - accuracy: 0.6661\n",
      "Epoch 111/250\n",
      "77/77 [==============================] - 0s 490us/step - loss: 0.5652 - accuracy: 0.6661\n",
      "Epoch 112/250\n",
      "77/77 [==============================] - 0s 498us/step - loss: 0.5711 - accuracy: 0.6612\n",
      "Epoch 113/250\n",
      "77/77 [==============================] - 0s 492us/step - loss: 0.5804 - accuracy: 0.6564\n",
      "Epoch 114/250\n",
      "77/77 [==============================] - 0s 489us/step - loss: 0.5767 - accuracy: 0.6515\n",
      "Epoch 115/250\n",
      "77/77 [==============================] - 0s 491us/step - loss: 0.5758 - accuracy: 0.6515\n",
      "Epoch 116/250\n",
      "77/77 [==============================] - 0s 501us/step - loss: 0.5806 - accuracy: 0.6531\n",
      "Epoch 117/250\n",
      "77/77 [==============================] - 0s 501us/step - loss: 0.5743 - accuracy: 0.6531\n",
      "Epoch 118/250\n",
      "77/77 [==============================] - 0s 500us/step - loss: 0.5674 - accuracy: 0.6531\n",
      "Epoch 119/250\n",
      "77/77 [==============================] - 0s 503us/step - loss: 0.5708 - accuracy: 0.6531\n",
      "Epoch 120/250\n",
      "77/77 [==============================] - 0s 517us/step - loss: 0.5697 - accuracy: 0.6515\n",
      "Epoch 121/250\n",
      "77/77 [==============================] - 0s 535us/step - loss: 0.5683 - accuracy: 0.6515\n",
      "Epoch 122/250\n",
      "77/77 [==============================] - 0s 515us/step - loss: 0.5645 - accuracy: 0.6531\n",
      "Epoch 123/250\n",
      "77/77 [==============================] - 0s 547us/step - loss: 0.5640 - accuracy: 0.6531\n",
      "Epoch 124/250\n",
      "77/77 [==============================] - 0s 577us/step - loss: 0.5648 - accuracy: 0.6515\n",
      "Epoch 125/250\n",
      "77/77 [==============================] - 0s 565us/step - loss: 0.5618 - accuracy: 0.6515\n",
      "Epoch 126/250\n",
      "77/77 [==============================] - 0s 528us/step - loss: 0.5715 - accuracy: 0.6531\n",
      "Epoch 127/250\n",
      "77/77 [==============================] - 0s 515us/step - loss: 0.5752 - accuracy: 0.6531\n",
      "Epoch 128/250\n",
      "77/77 [==============================] - 0s 491us/step - loss: 0.5675 - accuracy: 0.6498\n",
      "Epoch 129/250\n",
      "77/77 [==============================] - 0s 530us/step - loss: 0.5604 - accuracy: 0.6531\n",
      "Epoch 130/250\n",
      "77/77 [==============================] - 0s 502us/step - loss: 0.5613 - accuracy: 0.6515\n",
      "Epoch 131/250\n",
      "77/77 [==============================] - 0s 504us/step - loss: 0.5661 - accuracy: 0.6531\n",
      "Epoch 132/250\n",
      "77/77 [==============================] - 0s 501us/step - loss: 0.5620 - accuracy: 0.6515\n",
      "Epoch 133/250\n",
      "77/77 [==============================] - 0s 499us/step - loss: 0.5615 - accuracy: 0.6531\n",
      "Epoch 134/250\n",
      "77/77 [==============================] - 0s 500us/step - loss: 0.5665 - accuracy: 0.6531\n",
      "Epoch 135/250\n",
      "77/77 [==============================] - 0s 489us/step - loss: 0.5665 - accuracy: 0.6531\n",
      "Epoch 136/250\n",
      "77/77 [==============================] - 0s 487us/step - loss: 0.5636 - accuracy: 0.6515\n",
      "Epoch 137/250\n",
      "77/77 [==============================] - 0s 484us/step - loss: 0.5699 - accuracy: 0.6515\n",
      "Epoch 138/250\n",
      "77/77 [==============================] - 0s 500us/step - loss: 0.5596 - accuracy: 0.6531\n",
      "Epoch 139/250\n",
      "77/77 [==============================] - 0s 506us/step - loss: 0.5538 - accuracy: 0.6531\n",
      "Epoch 140/250\n",
      "77/77 [==============================] - 0s 501us/step - loss: 0.5585 - accuracy: 0.6531\n",
      "Epoch 141/250\n",
      "77/77 [==============================] - 0s 488us/step - loss: 0.5535 - accuracy: 0.6531\n",
      "Epoch 142/250\n",
      "77/77 [==============================] - 0s 504us/step - loss: 0.5565 - accuracy: 0.6515\n",
      "Epoch 143/250\n",
      "77/77 [==============================] - 0s 498us/step - loss: 0.5548 - accuracy: 0.6515\n",
      "Epoch 144/250\n",
      "77/77 [==============================] - 0s 508us/step - loss: 0.5573 - accuracy: 0.6531\n",
      "Epoch 145/250\n",
      "77/77 [==============================] - 0s 516us/step - loss: 0.5590 - accuracy: 0.6531\n",
      "Epoch 146/250\n",
      "77/77 [==============================] - 0s 507us/step - loss: 0.5595 - accuracy: 0.6531\n",
      "Epoch 147/250\n",
      "77/77 [==============================] - 0s 503us/step - loss: 0.5624 - accuracy: 0.6531\n",
      "Epoch 148/250\n",
      "77/77 [==============================] - 0s 489us/step - loss: 0.5596 - accuracy: 0.6531\n",
      "Epoch 149/250\n",
      "77/77 [==============================] - 0s 500us/step - loss: 0.5474 - accuracy: 0.6515\n",
      "Epoch 150/250\n",
      "77/77 [==============================] - 0s 531us/step - loss: 0.5576 - accuracy: 0.6515\n",
      "Epoch 151/250\n",
      "77/77 [==============================] - 0s 509us/step - loss: 0.5528 - accuracy: 0.6515\n",
      "Epoch 152/250\n",
      "77/77 [==============================] - 0s 516us/step - loss: 0.5499 - accuracy: 0.6531\n",
      "Epoch 153/250\n",
      "77/77 [==============================] - 0s 483us/step - loss: 0.5477 - accuracy: 0.6531\n",
      "Epoch 154/250\n",
      "77/77 [==============================] - 0s 478us/step - loss: 0.5490 - accuracy: 0.6531\n",
      "Epoch 155/250\n",
      "77/77 [==============================] - 0s 502us/step - loss: 0.5576 - accuracy: 0.6531\n",
      "Epoch 156/250\n",
      "77/77 [==============================] - 0s 498us/step - loss: 0.5481 - accuracy: 0.6531\n",
      "Epoch 157/250\n",
      "77/77 [==============================] - 0s 502us/step - loss: 0.5543 - accuracy: 0.6515\n",
      "Epoch 158/250\n",
      "77/77 [==============================] - 0s 484us/step - loss: 0.5536 - accuracy: 0.6515\n",
      "Epoch 159/250\n",
      "77/77 [==============================] - 0s 483us/step - loss: 0.5476 - accuracy: 0.6531\n",
      "Epoch 160/250\n",
      "77/77 [==============================] - 0s 487us/step - loss: 0.5481 - accuracy: 0.6531\n",
      "Epoch 161/250\n",
      "77/77 [==============================] - 0s 497us/step - loss: 0.5490 - accuracy: 0.6515\n",
      "Epoch 162/250\n",
      "77/77 [==============================] - 0s 512us/step - loss: 0.5503 - accuracy: 0.6531\n",
      "Epoch 163/250\n",
      "77/77 [==============================] - 0s 515us/step - loss: 0.5454 - accuracy: 0.6531\n",
      "Epoch 164/250\n",
      "77/77 [==============================] - 0s 505us/step - loss: 0.5454 - accuracy: 0.6531\n",
      "Epoch 165/250\n",
      "77/77 [==============================] - 0s 503us/step - loss: 0.5476 - accuracy: 0.6531\n",
      "Epoch 166/250\n",
      "77/77 [==============================] - 0s 530us/step - loss: 0.5614 - accuracy: 0.6531\n",
      "Epoch 167/250\n",
      "77/77 [==============================] - 0s 501us/step - loss: 0.5559 - accuracy: 0.6531\n",
      "Epoch 168/250\n",
      "77/77 [==============================] - 0s 504us/step - loss: 0.5480 - accuracy: 0.6531\n",
      "Epoch 169/250\n",
      "77/77 [==============================] - 0s 506us/step - loss: 0.5559 - accuracy: 0.6498\n",
      "Epoch 170/250\n",
      "77/77 [==============================] - 0s 492us/step - loss: 0.5692 - accuracy: 0.6531\n",
      "Epoch 171/250\n",
      "77/77 [==============================] - 0s 488us/step - loss: 0.5512 - accuracy: 0.6531\n",
      "Epoch 172/250\n",
      "77/77 [==============================] - 0s 482us/step - loss: 0.5396 - accuracy: 0.6531\n",
      "Epoch 173/250\n",
      "77/77 [==============================] - 0s 488us/step - loss: 0.5513 - accuracy: 0.6531\n",
      "Epoch 174/250\n",
      "77/77 [==============================] - 0s 477us/step - loss: 0.5488 - accuracy: 0.6531\n",
      "Epoch 175/250\n",
      "77/77 [==============================] - 0s 513us/step - loss: 0.5430 - accuracy: 0.6515\n",
      "Epoch 176/250\n",
      "77/77 [==============================] - 0s 489us/step - loss: 0.5476 - accuracy: 0.6531\n",
      "Epoch 177/250\n",
      "77/77 [==============================] - 0s 491us/step - loss: 0.5419 - accuracy: 0.6515\n",
      "Epoch 178/250\n",
      "77/77 [==============================] - 0s 483us/step - loss: 0.5511 - accuracy: 0.6531\n",
      "Epoch 179/250\n",
      "77/77 [==============================] - 0s 484us/step - loss: 0.5446 - accuracy: 0.6531\n",
      "Epoch 180/250\n",
      "77/77 [==============================] - 0s 485us/step - loss: 0.5383 - accuracy: 0.6629\n",
      "Epoch 181/250\n",
      "77/77 [==============================] - 0s 518us/step - loss: 0.5458 - accuracy: 0.6857\n",
      "Epoch 182/250\n",
      "77/77 [==============================] - 0s 502us/step - loss: 0.5396 - accuracy: 0.6906\n",
      "Epoch 183/250\n",
      "77/77 [==============================] - 0s 506us/step - loss: 0.5450 - accuracy: 0.6759\n",
      "Epoch 184/250\n",
      "77/77 [==============================] - 0s 502us/step - loss: 0.5484 - accuracy: 0.6678\n",
      "Epoch 185/250\n",
      "77/77 [==============================] - 0s 509us/step - loss: 0.5418 - accuracy: 0.7020\n",
      "Epoch 186/250\n",
      "77/77 [==============================] - 0s 520us/step - loss: 0.5396 - accuracy: 0.6808\n",
      "Epoch 187/250\n",
      "77/77 [==============================] - 0s 502us/step - loss: 0.5439 - accuracy: 0.6906\n",
      "Epoch 188/250\n",
      "77/77 [==============================] - 0s 499us/step - loss: 0.5392 - accuracy: 0.6792\n",
      "Epoch 189/250\n",
      "77/77 [==============================] - 0s 495us/step - loss: 0.5368 - accuracy: 0.6938\n",
      "Epoch 190/250\n",
      "77/77 [==============================] - 0s 492us/step - loss: 0.5377 - accuracy: 0.7003\n",
      "Epoch 191/250\n",
      "77/77 [==============================] - 0s 519us/step - loss: 0.5386 - accuracy: 0.6938\n",
      "Epoch 192/250\n",
      "77/77 [==============================] - 0s 500us/step - loss: 0.5359 - accuracy: 0.6954\n",
      "Epoch 193/250\n",
      "77/77 [==============================] - 0s 503us/step - loss: 0.5487 - accuracy: 0.6987\n",
      "Epoch 194/250\n",
      "77/77 [==============================] - 0s 492us/step - loss: 0.5430 - accuracy: 0.7020\n",
      "Epoch 195/250\n",
      "77/77 [==============================] - 0s 489us/step - loss: 0.5279 - accuracy: 0.7150\n",
      "Epoch 196/250\n",
      "77/77 [==============================] - 0s 487us/step - loss: 0.5332 - accuracy: 0.7166\n",
      "Epoch 197/250\n",
      "77/77 [==============================] - 0s 487us/step - loss: 0.5362 - accuracy: 0.6889\n",
      "Epoch 198/250\n",
      "77/77 [==============================] - 0s 499us/step - loss: 0.5388 - accuracy: 0.7085\n",
      "Epoch 199/250\n",
      "77/77 [==============================] - 0s 494us/step - loss: 0.5370 - accuracy: 0.7134\n",
      "Epoch 200/250\n",
      "77/77 [==============================] - 0s 507us/step - loss: 0.5444 - accuracy: 0.7068\n",
      "Epoch 201/250\n",
      "77/77 [==============================] - 0s 503us/step - loss: 0.5320 - accuracy: 0.6857\n",
      "Epoch 202/250\n",
      "77/77 [==============================] - 0s 517us/step - loss: 0.5567 - accuracy: 0.6564\n",
      "Epoch 203/250\n",
      "77/77 [==============================] - 0s 750us/step - loss: 0.5368 - accuracy: 0.7052\n",
      "Epoch 204/250\n",
      "77/77 [==============================] - 0s 629us/step - loss: 0.5407 - accuracy: 0.7068\n",
      "Epoch 205/250\n",
      "77/77 [==============================] - 0s 605us/step - loss: 0.5324 - accuracy: 0.7134\n",
      "Epoch 206/250\n",
      "77/77 [==============================] - 0s 509us/step - loss: 0.5296 - accuracy: 0.7003\n",
      "Epoch 207/250\n",
      "77/77 [==============================] - 0s 497us/step - loss: 0.5381 - accuracy: 0.6938\n",
      "Epoch 208/250\n",
      "77/77 [==============================] - 0s 502us/step - loss: 0.5312 - accuracy: 0.7085\n",
      "Epoch 209/250\n",
      "77/77 [==============================] - 0s 509us/step - loss: 0.5298 - accuracy: 0.7101\n",
      "Epoch 210/250\n",
      "77/77 [==============================] - 0s 507us/step - loss: 0.5348 - accuracy: 0.7052\n",
      "Epoch 211/250\n",
      "77/77 [==============================] - 0s 487us/step - loss: 0.5187 - accuracy: 0.7296\n",
      "Epoch 212/250\n",
      "77/77 [==============================] - 0s 509us/step - loss: 0.5345 - accuracy: 0.7101\n",
      "Epoch 213/250\n",
      "77/77 [==============================] - 0s 480us/step - loss: 0.5226 - accuracy: 0.7150\n",
      "Epoch 214/250\n",
      "77/77 [==============================] - 0s 482us/step - loss: 0.5230 - accuracy: 0.7182\n",
      "Epoch 215/250\n",
      "77/77 [==============================] - 0s 491us/step - loss: 0.5279 - accuracy: 0.7068\n",
      "Epoch 216/250\n",
      "77/77 [==============================] - 0s 520us/step - loss: 0.5225 - accuracy: 0.7215\n",
      "Epoch 217/250\n",
      "77/77 [==============================] - 0s 498us/step - loss: 0.5197 - accuracy: 0.7231\n",
      "Epoch 218/250\n",
      "77/77 [==============================] - 0s 525us/step - loss: 0.5272 - accuracy: 0.7182\n",
      "Epoch 219/250\n",
      "77/77 [==============================] - 0s 526us/step - loss: 0.5321 - accuracy: 0.7052\n",
      "Epoch 220/250\n",
      "77/77 [==============================] - 0s 502us/step - loss: 0.5308 - accuracy: 0.7427\n",
      "Epoch 221/250\n",
      "77/77 [==============================] - 0s 524us/step - loss: 0.5278 - accuracy: 0.7068\n",
      "Epoch 222/250\n",
      "77/77 [==============================] - 0s 511us/step - loss: 0.5328 - accuracy: 0.7068\n",
      "Epoch 223/250\n",
      "77/77 [==============================] - 0s 480us/step - loss: 0.5267 - accuracy: 0.7215\n",
      "Epoch 224/250\n",
      "77/77 [==============================] - 0s 516us/step - loss: 0.5223 - accuracy: 0.7101\n",
      "Epoch 225/250\n",
      "77/77 [==============================] - 0s 526us/step - loss: 0.5290 - accuracy: 0.7068\n",
      "Epoch 226/250\n",
      "77/77 [==============================] - 0s 498us/step - loss: 0.5367 - accuracy: 0.7085\n",
      "Epoch 227/250\n",
      "77/77 [==============================] - 0s 523us/step - loss: 0.5315 - accuracy: 0.7003\n",
      "Epoch 228/250\n",
      "77/77 [==============================] - 0s 519us/step - loss: 0.5319 - accuracy: 0.7036\n",
      "Epoch 229/250\n",
      "77/77 [==============================] - 0s 503us/step - loss: 0.5343 - accuracy: 0.6938\n",
      "Epoch 230/250\n",
      "77/77 [==============================] - 0s 516us/step - loss: 0.5223 - accuracy: 0.7345\n",
      "Epoch 231/250\n",
      "77/77 [==============================] - 0s 513us/step - loss: 0.5263 - accuracy: 0.7150\n",
      "Epoch 232/250\n",
      "77/77 [==============================] - 0s 539us/step - loss: 0.5237 - accuracy: 0.7052\n",
      "Epoch 233/250\n",
      "77/77 [==============================] - 0s 514us/step - loss: 0.5282 - accuracy: 0.7052\n",
      "Epoch 234/250\n",
      "77/77 [==============================] - 0s 511us/step - loss: 0.5249 - accuracy: 0.7052\n",
      "Epoch 235/250\n",
      "77/77 [==============================] - 0s 516us/step - loss: 0.5219 - accuracy: 0.7182\n",
      "Epoch 236/250\n",
      "77/77 [==============================] - 0s 495us/step - loss: 0.5215 - accuracy: 0.7003\n",
      "Epoch 237/250\n",
      "77/77 [==============================] - 0s 497us/step - loss: 0.5166 - accuracy: 0.7215\n",
      "Epoch 238/250\n",
      "77/77 [==============================] - 0s 520us/step - loss: 0.5233 - accuracy: 0.7199\n",
      "Epoch 239/250\n",
      "77/77 [==============================] - 0s 531us/step - loss: 0.5328 - accuracy: 0.7068\n",
      "Epoch 240/250\n",
      "77/77 [==============================] - 0s 505us/step - loss: 0.5263 - accuracy: 0.7199\n",
      "Epoch 241/250\n",
      "77/77 [==============================] - 0s 514us/step - loss: 0.5246 - accuracy: 0.7215\n",
      "Epoch 242/250\n",
      "77/77 [==============================] - 0s 513us/step - loss: 0.5203 - accuracy: 0.7215\n",
      "Epoch 243/250\n",
      "77/77 [==============================] - 0s 504us/step - loss: 0.5160 - accuracy: 0.7248\n",
      "Epoch 244/250\n",
      "77/77 [==============================] - 0s 494us/step - loss: 0.5325 - accuracy: 0.7215\n",
      "Epoch 245/250\n",
      "77/77 [==============================] - 0s 512us/step - loss: 0.5151 - accuracy: 0.7215\n",
      "Epoch 246/250\n",
      "77/77 [==============================] - 0s 490us/step - loss: 0.5190 - accuracy: 0.7052\n",
      "Epoch 247/250\n",
      "77/77 [==============================] - 0s 515us/step - loss: 0.5276 - accuracy: 0.7101\n",
      "Epoch 248/250\n",
      "77/77 [==============================] - 0s 506us/step - loss: 0.5201 - accuracy: 0.7182\n",
      "Epoch 249/250\n",
      "77/77 [==============================] - 0s 494us/step - loss: 0.5263 - accuracy: 0.7199\n",
      "Epoch 250/250\n",
      "77/77 [==============================] - 0s 503us/step - loss: 0.5194 - accuracy: 0.7296\n"
     ]
    },
    {
     "data": {
      "text/plain": [
       "<keras.src.callbacks.History at 0xffff3c60ed10>"
      ]
     },
     "execution_count": 16,
     "metadata": {},
     "output_type": "execute_result"
    }
   ],
   "source": [
    "# fit the keras model on the dataset\n",
    "model.fit(X_train, y_train, epochs=250, batch_size=8)"
   ]
  },
  {
   "cell_type": "code",
   "execution_count": 17,
   "metadata": {
    "colab": {
     "base_uri": "https://localhost:8080/",
     "height": 496
    },
    "executionInfo": {
     "elapsed": 421,
     "status": "ok",
     "timestamp": 1685771540390,
     "user": {
      "displayName": "Zaky Syihan",
      "userId": "05654158214121247060"
     },
     "user_tz": -420
    },
    "id": "EBfRFU4j0EpM",
    "outputId": "2053a47a-2cb7-42d6-ebf1-39001ba9c7ea"
   },
   "outputs": [
    {
     "data": {
      "image/png": "[encoded data removed]",
      "text/plain": [
       "<Figure size 800x500 with 1 Axes>"
      ]
     },
     "metadata": {},
     "output_type": "display_data"
    }
   ],
   "source": [
    "plt.figure(figsize=[8,5])\n",
    "plt.plot(model.history.history['accuracy'], 'r')\n",
    "plt.legend(['Training Acc'])\n",
    "plt.xlabel('Epochs', fontsize=16)\n",
    "plt.ylabel('Accuracy', fontsize=16)\n",
    "plt.title('Accuracy Curves', fontsize=16)\n",
    "\n",
    "plt.show()"
   ]
  },
  {
   "cell_type": "markdown",
   "metadata": {
    "id": "11Y1bzM9BJL9"
   },
   "source": [
    "## Evaluate Model"
   ]
  },
  {
   "cell_type": "code",
   "execution_count": 18,
   "metadata": {
    "colab": {
     "base_uri": "https://localhost:8080/"
    },
    "executionInfo": {
     "elapsed": 348,
     "status": "ok",
     "timestamp": 1685771341738,
     "user": {
      "displayName": "Zaky Syihan",
      "userId": "05654158214121247060"
     },
     "user_tz": -420
    },
    "id": "xLerT7zmBJL9",
    "outputId": "2004a529-e1f2-4ff8-bad9-ebc5cc8b2885"
   },
   "outputs": [
    {
     "name": "stdout",
     "output_type": "stream",
     "text": [
      "Accuracy: 58.44\n"
     ]
    }
   ],
   "source": [
    "# evaluate the keras model\n",
    "_, accuracy = model.evaluate(X_test, y_test, verbose=False)\n",
    "print(f'Accuracy: {accuracy*100:.2f}')"
   ]
  },
  {
   "cell_type": "markdown",
   "metadata": {
    "id": "GjDDglSmBJL9"
   },
   "source": [
    "---"
   ]
  }
 ],
 "metadata": {
  "colab": {
   "provenance": []
  },
  "kernelspec": {
   "display_name": "Python 3 (ipykernel)",
   "language": "python",
   "name": "python3"
  },
  "language_info": {
   "codemirror_mode": {
    "name": "ipython",
    "version": 3
   },
   "file_extension": ".py",
   "mimetype": "text/x-python",
   "name": "python",
   "nbconvert_exporter": "python",
   "pygments_lexer": "ipython3",
   "version": "3.11.6"
  }
 },
 "nbformat": 4,
 "nbformat_minor": 4
}
