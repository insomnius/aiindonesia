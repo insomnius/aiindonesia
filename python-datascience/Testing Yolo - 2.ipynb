{
 "cells": [
  {
   "cell_type": "code",
   "execution_count": 1,
   "id": "695f1896-c8b0-4052-9863-e24d70a2c46f",
   "metadata": {},
   "outputs": [],
   "source": [
    "from IPython.display import display, Javascript, Image\n",
    "from base64 import b64decode, b64encode\n",
    "import cv2\n",
    "import numpy as np\n",
    "import PIL\n",
    "import io\n",
    "import html\n",
    "import time\n",
    "import matplotlib.pyplot as plt\n",
    "%matplotlib inline"
   ]
  },
  {
   "cell_type": "code",
   "execution_count": 2,
   "id": "70b91bd3-ae16-4369-8a95-b04a73bbd90b",
   "metadata": {},
   "outputs": [
    {
     "name": "stdout",
     "output_type": "stream",
     "text": [
      "Cloning into 'darknet'...\n",
      "remote: Enumerating objects: 15833, done.\u001b[K\n",
      "remote: Total 15833 (delta 0), reused 0 (delta 0), pack-reused 15833\u001b[K\n",
      "Receiving objects: 100% (15833/15833), 14.39 MiB | 1.31 MiB/s, done.\n",
      "Resolving deltas: 100% (10666/10666), done.\n"
     ]
    }
   ],
   "source": [
    "!git clone https://github.com/AlexeyAB/darknet"
   ]
  },
  {
   "cell_type": "code",
   "execution_count": 3,
   "id": "fa4c3731-6b62-4cd8-bbff-bd25971a92bb",
   "metadata": {},
   "outputs": [
    {
     "name": "stdout",
     "output_type": "stream",
     "text": [
      "/home/jovyan/work/darknet\n"
     ]
    }
   ],
   "source": [
    "# change makefile to have GPU, OPENCV and LIBSO enabled\n",
    "%cd darknet\n",
    "!sed -i 's/OPENCV=0/OPENCV=1/' Makefile\n",
    "!sed -i 's/GPU=0/GPU=1/' Makefile\n",
    "!sed -i 's/CUDNN=0/CUDNN=1/' Makefile\n",
    "!sed -i 's/CUDNN_HALF=0/CUDNN_HALF=1/' Makefile\n",
    "!sed -i 's/LIBSO=0/LIBSO=1/' Makefile"
   ]
  },
  {
   "cell_type": "code",
   "execution_count": 4,
   "id": "11f1b5fd-e17f-42a3-89bc-441c044af104",
   "metadata": {},
   "outputs": [
    {
     "name": "stdout",
     "output_type": "stream",
     "text": [
      "mkdir -p ./obj/\n",
      "mkdir -p backup\n",
      "mkdir -p results\n",
      "chmod +x *.sh\n",
      "g++ -std=c++11 -std=c++11 -Iinclude/ -I3rdparty/stb/include -DOPENCV `pkg-config --cflags opencv4 2> /dev/null || pkg-config --cflags opencv` -DGPU -I/usr/local/cuda/include/ -DCUDNN -DCUDNN_HALF -Wall -Wfatal-errors -Wno-unused-result -Wno-unknown-pragmas -fPIC -rdynamic -Ofast -DOPENCV -DGPU -DCUDNN -I/usr/local/cudnn/include -DCUDNN_HALF -fPIC -c ./src/image_opencv.cpp -o obj/image_opencv.o\n",
      "/bin/sh: 1: pkg-config: not found\n",
      "In file included from \u001b[01m\u001b[K./src/image.h:3\u001b[m\u001b[K,\n",
      "                 from \u001b[01m\u001b[K./src/image_opencv.h:4\u001b[m\u001b[K,\n",
      "                 from \u001b[01m\u001b[K./src/image_opencv.cpp:1\u001b[m\u001b[K:\n",
      "\u001b[01m\u001b[Kinclude/darknet.h:41:10:\u001b[m\u001b[K \u001b[01;31m\u001b[Kfatal error: \u001b[m\u001b[Kcuda_runtime.h: No such file or directory\n",
      "   41 | #include \u001b[01;31m\u001b[K<cuda_runtime.h>\u001b[m\u001b[K\n",
      "      |          \u001b[01;31m\u001b[K^~~~~~~~~~~~~~~~\u001b[m\u001b[K\n",
      "compilation terminated.\n",
      "make: *** [Makefile:198: obj/image_opencv.o] Error 1\n"
     ]
    }
   ],
   "source": [
    "!make"
   ]
  }
 ],
 "metadata": {
  "kernelspec": {
   "display_name": "Python 3 (ipykernel)",
   "language": "python",
   "name": "python3"
  },
  "language_info": {
   "codemirror_mode": {
    "name": "ipython",
    "version": 3
   },
   "file_extension": ".py",
   "mimetype": "text/x-python",
   "name": "python",
   "nbconvert_exporter": "python",
   "pygments_lexer": "ipython3",
   "version": "3.11.6"
  }
 },
 "nbformat": 4,
 "nbformat_minor": 5
}
